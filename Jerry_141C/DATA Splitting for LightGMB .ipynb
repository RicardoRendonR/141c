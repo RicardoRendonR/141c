{
 "cells": [
  {
   "cell_type": "code",
   "execution_count": 72,
   "metadata": {},
   "outputs": [],
   "source": [
    "import pandas as pd\n",
    "import numpy as np\n",
    "import matplotlib.pyplot as plt\n",
    "from matplotlib.patches import Polygon\n",
    "import seaborn as sns"
   ]
  },
  {
   "cell_type": "code",
   "execution_count": 73,
   "metadata": {},
   "outputs": [
    {
     "data": {
      "text/html": [
       "<div>\n",
       "<style scoped>\n",
       "    .dataframe tbody tr th:only-of-type {\n",
       "        vertical-align: middle;\n",
       "    }\n",
       "\n",
       "    .dataframe tbody tr th {\n",
       "        vertical-align: top;\n",
       "    }\n",
       "\n",
       "    .dataframe thead th {\n",
       "        text-align: right;\n",
       "    }\n",
       "</style>\n",
       "<table border=\"1\" class=\"dataframe\">\n",
       "  <thead>\n",
       "    <tr style=\"text-align: right;\">\n",
       "      <th></th>\n",
       "      <th>Id</th>\n",
       "      <th>MSSubClass</th>\n",
       "      <th>LotFrontage</th>\n",
       "      <th>LotArea</th>\n",
       "      <th>Street</th>\n",
       "      <th>Alley</th>\n",
       "      <th>LotShape</th>\n",
       "      <th>Utilities</th>\n",
       "      <th>HouseStyle</th>\n",
       "      <th>OverallQual</th>\n",
       "      <th>...</th>\n",
       "      <th>SaleType_ConLw</th>\n",
       "      <th>SaleType_New</th>\n",
       "      <th>SaleType_Oth</th>\n",
       "      <th>SaleType_WD</th>\n",
       "      <th>SaleCondition_Abnorml</th>\n",
       "      <th>SaleCondition_AdjLand</th>\n",
       "      <th>SaleCondition_Alloca</th>\n",
       "      <th>SaleCondition_Family</th>\n",
       "      <th>SaleCondition_Normal</th>\n",
       "      <th>SaleCondition_Partial</th>\n",
       "    </tr>\n",
       "  </thead>\n",
       "  <tbody>\n",
       "    <tr>\n",
       "      <th>0</th>\n",
       "      <td>1</td>\n",
       "      <td>60</td>\n",
       "      <td>65.0</td>\n",
       "      <td>8450</td>\n",
       "      <td>2</td>\n",
       "      <td>0</td>\n",
       "      <td>4</td>\n",
       "      <td>4</td>\n",
       "      <td>2.0</td>\n",
       "      <td>7</td>\n",
       "      <td>...</td>\n",
       "      <td>0</td>\n",
       "      <td>0</td>\n",
       "      <td>0</td>\n",
       "      <td>1</td>\n",
       "      <td>0</td>\n",
       "      <td>0</td>\n",
       "      <td>0</td>\n",
       "      <td>0</td>\n",
       "      <td>1</td>\n",
       "      <td>0</td>\n",
       "    </tr>\n",
       "    <tr>\n",
       "      <th>1</th>\n",
       "      <td>2</td>\n",
       "      <td>20</td>\n",
       "      <td>80.0</td>\n",
       "      <td>9600</td>\n",
       "      <td>2</td>\n",
       "      <td>0</td>\n",
       "      <td>4</td>\n",
       "      <td>4</td>\n",
       "      <td>1.0</td>\n",
       "      <td>6</td>\n",
       "      <td>...</td>\n",
       "      <td>0</td>\n",
       "      <td>0</td>\n",
       "      <td>0</td>\n",
       "      <td>1</td>\n",
       "      <td>0</td>\n",
       "      <td>0</td>\n",
       "      <td>0</td>\n",
       "      <td>0</td>\n",
       "      <td>1</td>\n",
       "      <td>0</td>\n",
       "    </tr>\n",
       "    <tr>\n",
       "      <th>2</th>\n",
       "      <td>3</td>\n",
       "      <td>60</td>\n",
       "      <td>68.0</td>\n",
       "      <td>11250</td>\n",
       "      <td>2</td>\n",
       "      <td>0</td>\n",
       "      <td>3</td>\n",
       "      <td>4</td>\n",
       "      <td>2.0</td>\n",
       "      <td>7</td>\n",
       "      <td>...</td>\n",
       "      <td>0</td>\n",
       "      <td>0</td>\n",
       "      <td>0</td>\n",
       "      <td>1</td>\n",
       "      <td>0</td>\n",
       "      <td>0</td>\n",
       "      <td>0</td>\n",
       "      <td>0</td>\n",
       "      <td>1</td>\n",
       "      <td>0</td>\n",
       "    </tr>\n",
       "    <tr>\n",
       "      <th>3</th>\n",
       "      <td>4</td>\n",
       "      <td>70</td>\n",
       "      <td>60.0</td>\n",
       "      <td>9550</td>\n",
       "      <td>2</td>\n",
       "      <td>0</td>\n",
       "      <td>3</td>\n",
       "      <td>4</td>\n",
       "      <td>2.0</td>\n",
       "      <td>7</td>\n",
       "      <td>...</td>\n",
       "      <td>0</td>\n",
       "      <td>0</td>\n",
       "      <td>0</td>\n",
       "      <td>1</td>\n",
       "      <td>1</td>\n",
       "      <td>0</td>\n",
       "      <td>0</td>\n",
       "      <td>0</td>\n",
       "      <td>0</td>\n",
       "      <td>0</td>\n",
       "    </tr>\n",
       "    <tr>\n",
       "      <th>4</th>\n",
       "      <td>5</td>\n",
       "      <td>60</td>\n",
       "      <td>84.0</td>\n",
       "      <td>14260</td>\n",
       "      <td>2</td>\n",
       "      <td>0</td>\n",
       "      <td>3</td>\n",
       "      <td>4</td>\n",
       "      <td>2.0</td>\n",
       "      <td>8</td>\n",
       "      <td>...</td>\n",
       "      <td>0</td>\n",
       "      <td>0</td>\n",
       "      <td>0</td>\n",
       "      <td>1</td>\n",
       "      <td>0</td>\n",
       "      <td>0</td>\n",
       "      <td>0</td>\n",
       "      <td>0</td>\n",
       "      <td>1</td>\n",
       "      <td>0</td>\n",
       "    </tr>\n",
       "  </tbody>\n",
       "</table>\n",
       "<p>5 rows × 211 columns</p>\n",
       "</div>"
      ],
      "text/plain": [
       "   Id  MSSubClass  LotFrontage  LotArea  Street  Alley  LotShape  Utilities  \\\n",
       "0   1          60         65.0     8450       2      0         4          4   \n",
       "1   2          20         80.0     9600       2      0         4          4   \n",
       "2   3          60         68.0    11250       2      0         3          4   \n",
       "3   4          70         60.0     9550       2      0         3          4   \n",
       "4   5          60         84.0    14260       2      0         3          4   \n",
       "\n",
       "   HouseStyle  OverallQual          ...            SaleType_ConLw  \\\n",
       "0         2.0            7          ...                         0   \n",
       "1         1.0            6          ...                         0   \n",
       "2         2.0            7          ...                         0   \n",
       "3         2.0            7          ...                         0   \n",
       "4         2.0            8          ...                         0   \n",
       "\n",
       "   SaleType_New  SaleType_Oth  SaleType_WD  SaleCondition_Abnorml  \\\n",
       "0             0             0            1                      0   \n",
       "1             0             0            1                      0   \n",
       "2             0             0            1                      0   \n",
       "3             0             0            1                      1   \n",
       "4             0             0            1                      0   \n",
       "\n",
       "   SaleCondition_AdjLand  SaleCondition_Alloca  SaleCondition_Family  \\\n",
       "0                      0                     0                     0   \n",
       "1                      0                     0                     0   \n",
       "2                      0                     0                     0   \n",
       "3                      0                     0                     0   \n",
       "4                      0                     0                     0   \n",
       "\n",
       "   SaleCondition_Normal  SaleCondition_Partial  \n",
       "0                     1                      0  \n",
       "1                     1                      0  \n",
       "2                     1                      0  \n",
       "3                     0                      0  \n",
       "4                     1                      0  \n",
       "\n",
       "[5 rows x 211 columns]"
      ]
     },
     "execution_count": 73,
     "metadata": {},
     "output_type": "execute_result"
    }
   ],
   "source": [
    "DF= pd.read_csv(\"../Data_v4_AllNaNsReplaced_dummies.csv\")\n",
    "DF.head()"
   ]
  },
  {
   "cell_type": "code",
   "execution_count": 74,
   "metadata": {},
   "outputs": [
    {
     "data": {
      "text/plain": [
       "(1460, 211)"
      ]
     },
     "execution_count": 74,
     "metadata": {},
     "output_type": "execute_result"
    }
   ],
   "source": [
    "DF.shape"
   ]
  },
  {
   "cell_type": "code",
   "execution_count": 75,
   "metadata": {},
   "outputs": [],
   "source": [
    "# Importing the dataset\n",
    "dataset = DF.copy()\n",
    "\n",
    "# X is the predictor variable\n",
    "X = DF.iloc[:, 0:80].values\n",
    "\n",
    "# y is the response variable\n",
    "y = DF.SalePrice.values\n"
   ]
  },
  {
   "cell_type": "code",
   "execution_count": 76,
   "metadata": {},
   "outputs": [],
   "source": [
    "# Splitting data \n",
    "# Splingintg original datsa in to test (20% of data) and train(80% of data)\n",
    "from sklearn.cross_validation import train_test_split\n",
    "x_train, true_x_test, y_train, true_y_test = train_test_split(X, y, test_size = 0.20, random_state = 0)"
   ]
  },
  {
   "cell_type": "code",
   "execution_count": 77,
   "metadata": {},
   "outputs": [],
   "source": [
    "# # Splitting train into modeling_test (25% of D2) and modeling_train (75% of D2) \n",
    "x_train, x_test, y_train, y_test = train_test_split(x_train, y_train, test_size = 0.25, random_state = 0)"
   ]
  },
  {
   "cell_type": "code",
   "execution_count": 78,
   "metadata": {},
   "outputs": [
    {
     "name": "stdout",
     "output_type": "stream",
     "text": [
      "(876, 80)\n",
      "(292, 80)\n",
      "(292, 80)\n"
     ]
    }
   ],
   "source": [
    "print(x_train.shape)\n",
    "print(x_test.shape)\n",
    "print(true_x_test.shape)\n"
   ]
  },
  {
   "cell_type": "markdown",
   "metadata": {},
   "source": [
    "## Julia's LightGBM procedure"
   ]
  },
  {
   "cell_type": "code",
   "execution_count": 79,
   "metadata": {},
   "outputs": [],
   "source": [
    "import lightgbm as lgb\n",
    "\n",
    "d_train = lgb.Dataset(x_train, label=y_train)\n",
    "params = {}\n",
    "params['learning_rate'] = 0.003\n",
    "params['boosting_type'] = 'gbdt'\n",
    "params['objective'] = 'regression'\n",
    "params['metric'] = 'mse'\n",
    "params['sub_feature'] = 0.5\n",
    "params['num_leaves'] = 10\n",
    "params['min_data'] = 50\n",
    "params['max_depth'] = 10\n",
    "clf = lgb.train(params, d_train, 100)"
   ]
  },
  {
   "cell_type": "code",
   "execution_count": 80,
   "metadata": {},
   "outputs": [
    {
     "data": {
      "text/plain": [
       "array([172585.53602497, 160943.34093912, 176853.31283273, 191335.12242037,\n",
       "       190695.37458332, 172667.98219421, 173279.32866806, 202771.31600333,\n",
       "       190882.06805137, 176673.13243801, 195596.86398732, 193648.50228019,\n",
       "       160876.08505791, 185921.6068748 , 199952.01443162, 180041.89968566,\n",
       "       158780.27055394, 173398.23818189, 159132.9461808 , 160291.01432282,\n",
       "       169184.67998291, 181104.31138372, 181521.01689645, 177641.55645253,\n",
       "       158394.95676112, 178386.67809192, 172606.26407824, 187929.54871604,\n",
       "       188071.140231  , 183292.87295365, 175571.26794317, 179257.69101669,\n",
       "       176642.06133464, 171694.66552641, 176268.50705693, 172663.73911481,\n",
       "       177999.56704302, 179675.26981884, 174905.5416173 , 175340.82713314,\n",
       "       176019.32906576, 171321.36388481, 169751.38146902, 196053.22433663,\n",
       "       215513.08415107, 187728.98277731, 176924.24344816, 190617.69203047,\n",
       "       171301.28455002, 186359.84110749, 169758.23294473, 167997.45442234,\n",
       "       176859.17602412, 209165.78387136, 168255.46732898, 205835.97046074,\n",
       "       224557.87585695, 172918.58239823, 176024.06215367, 203659.77835444,\n",
       "       230862.85651931, 201925.4101844 , 164659.40860798, 208040.71612159,\n",
       "       171284.27494819, 163439.7020924 , 171138.85953928, 181348.05819265,\n",
       "       193578.78816983, 165814.3267832 , 168392.45482591, 161667.70043703,\n",
       "       184023.3675277 , 165219.77882128, 199985.20256525, 168033.69917458,\n",
       "       198682.55126597, 173559.91828803, 164253.47697862, 188558.94261049,\n",
       "       169628.5259082 , 161117.39879171, 170873.47766956, 167108.83963351,\n",
       "       211415.11098301, 199842.43627394, 171991.89664856, 201293.65055409,\n",
       "       199041.74120651, 205848.676604  , 175749.6509025 , 184092.32711978,\n",
       "       184989.4722788 , 161132.97669404, 173196.12599166, 167170.8932196 ,\n",
       "       204713.47485777, 159131.14414899, 166240.16209748, 161913.12289645,\n",
       "       228002.11355229, 168245.14162617, 161284.56689947, 164146.65893151,\n",
       "       175233.16009183, 182628.80118334, 173841.71233331, 224557.87585695,\n",
       "       183809.63621816, 164341.23907855, 181676.70817973, 169432.95145616,\n",
       "       167869.9029678 , 174521.13299098, 175097.2889944 , 196254.90452992,\n",
       "       175655.53959118, 171759.23645301, 174549.50211043, 185712.58214587,\n",
       "       173237.23401263, 178103.48437656, 191861.9893705 , 187877.45944008,\n",
       "       186516.6786488 , 176199.72433545, 191759.49017384, 166457.97193355,\n",
       "       190948.16264312, 187797.81501802, 160528.10084075, 210222.61667858,\n",
       "       195158.31511667, 159247.72063557, 205111.85042919, 180630.6405998 ,\n",
       "       184534.5388881 , 210201.02752452, 186113.54391095, 194491.1589223 ,\n",
       "       185546.19732602, 211063.03670169, 191120.32731949, 180878.07408208,\n",
       "       171814.20444858, 181112.89230684, 165499.34093722, 165371.32333361,\n",
       "       202282.31076288, 160905.62087911, 165103.53120448, 170846.58463886,\n",
       "       170695.54279757, 159274.27340124, 181625.5931598 , 168046.92237947,\n",
       "       167378.71209214, 169022.52489041, 185548.59099771, 202647.8672019 ,\n",
       "       157202.4754353 , 179189.11194167, 189570.56670923, 168858.04827246,\n",
       "       192960.6240683 , 159039.39115569, 179903.39994091, 176231.34884672,\n",
       "       168077.6784307 , 163516.33577845, 198648.91519108, 228953.19168666,\n",
       "       204987.95666114, 169318.65418683, 193711.1867429 , 169111.36754692,\n",
       "       183366.88773951, 165486.78696325, 165550.15074494, 174762.14348646,\n",
       "       161572.89626019, 189977.49641183, 188754.08004512, 230862.85651931,\n",
       "       160758.36352426, 171560.64423695, 178169.60852806, 169978.38225003,\n",
       "       160437.02789225, 172696.14233797, 173501.67067457, 168152.81683194,\n",
       "       230862.85651931, 194770.56397116, 169038.74616844, 165667.97487193,\n",
       "       160394.63058077, 166087.74734893, 180355.51244349, 186697.83275406,\n",
       "       173319.47125037, 161898.09041501, 181730.85255895, 166902.51774777,\n",
       "       168526.4203042 , 188264.60119169, 166746.10907746, 222939.98335224,\n",
       "       179153.5284605 , 168850.61809199, 188829.48948381, 176399.94140454,\n",
       "       184291.96864141, 192612.88482482, 177670.71178723, 211342.29747519,\n",
       "       169388.94382686, 196039.15511838, 192863.6284474 , 228281.37432579,\n",
       "       178992.60750208, 175785.41064301, 160090.26507746, 181643.24068336,\n",
       "       169150.80542182, 167626.84452542, 162454.33788918, 187594.44153266,\n",
       "       166527.40720824, 170232.68407495, 187692.36517385, 210216.23053589,\n",
       "       171937.50608612, 168362.5988026 , 170304.40415583, 169723.81699405,\n",
       "       203043.18299664, 178451.42245154, 180603.41749805, 213557.5322045 ,\n",
       "       185932.43316647, 168109.44342928, 200833.00639532, 179150.1105637 ,\n",
       "       171656.82593677, 170143.79340345, 159468.23502548, 171885.95339518,\n",
       "       206293.28427111, 195619.46446216, 171277.88586259, 173055.7231957 ,\n",
       "       178886.28162294, 167457.29644755, 182056.19318556, 166629.36774536,\n",
       "       193653.3407926 , 202030.98219968, 164763.74353915, 184914.59374381,\n",
       "       167050.28566596, 177231.04791075, 163799.97045996, 222512.40747969,\n",
       "       160907.98234947, 164098.97064465, 180674.65148769, 166874.48891337,\n",
       "       231142.11729281, 168850.21777569, 183946.21001705, 185683.1306587 ,\n",
       "       200917.01571803, 165899.63693483, 226199.39492289, 175287.26489845,\n",
       "       187922.63243914, 170962.248303  , 223127.22070185, 182151.96385873,\n",
       "       170805.04545751, 167027.66581922, 176532.94433936, 182785.79481819,\n",
       "       168639.68930048, 172844.57876905, 171061.40533801, 167625.5710791 ,\n",
       "       162360.7635787 , 173674.56235031, 165475.54455748, 203892.50200589])"
      ]
     },
     "execution_count": 80,
     "metadata": {},
     "output_type": "execute_result"
    }
   ],
   "source": [
    "#Prediction\n",
    "y_pred=clf.predict(x_test)\n",
    "y_pred"
   ]
  },
  {
   "cell_type": "code",
   "execution_count": 81,
   "metadata": {},
   "outputs": [
    {
     "data": {
      "text/plain": [
       "4179519051.5019965"
      ]
     },
     "execution_count": 81,
     "metadata": {},
     "output_type": "execute_result"
    }
   ],
   "source": [
    "mse = np.mean((y_test-y_pred)**2)\n",
    "mse"
   ]
  },
  {
   "cell_type": "code",
   "execution_count": 82,
   "metadata": {},
   "outputs": [
    {
     "data": {
      "image/png": "[encoded data removed]",
      "text/plain": [
       "<matplotlib.figure.Figure at 0x19b10fa66a0>"
      ]
     },
     "metadata": {},
     "output_type": "display_data"
    }
   ],
   "source": [
    "plt.scatter(y_pred,y_test)\n",
    "plt.plot(y_pred,y_pred,\"m\")\n",
    "plt.show()"
   ]
  },
  {
   "cell_type": "code",
   "execution_count": 83,
   "metadata": {},
   "outputs": [
    {
     "data": {
      "image/png": "[encoded data removed]",
      "text/plain": [
       "<matplotlib.figure.Figure at 0x19b10fac4a8>"
      ]
     },
     "metadata": {},
     "output_type": "display_data"
    }
   ],
   "source": [
    "plt.scatter(x_test[:,0],y_test-y_pred)\n",
    "plt.show()"
   ]
  },
  {
   "cell_type": "code",
   "execution_count": 84,
   "metadata": {},
   "outputs": [],
   "source": [
    "MSEs = {}\n",
    "Mse_last = mse\n",
    "for lr in np.linspace(0.01,1,100):\n",
    "    params['learning_rate'] = lr\n",
    "    clf = lgb.train(params, d_train, 100)\n",
    "    y_pred=clf.predict(x_test)\n",
    "    Mse = np.mean((y_pred-y_test)**2)\n",
    "    if Mse > Mse_last:\n",
    "        break\n",
    "    MSEs.update({\"learning_rate = \" + str(round(lr,3)) : Mse})\n",
    "    Mse_last = Mse"
   ]
  },
  {
   "cell_type": "code",
   "execution_count": 85,
   "metadata": {},
   "outputs": [
    {
     "data": {
      "text/plain": [
       "{'learning_rate = 0.01': 1889233600.851637,\n",
       " 'learning_rate = 0.02': 1003702688.1057637,\n",
       " 'learning_rate = 0.03': 790320930.5781779,\n",
       " 'learning_rate = 0.04': 715325108.123973,\n",
       " 'learning_rate = 0.05': 676212482.6802417,\n",
       " 'learning_rate = 0.06': 651365118.6561786,\n",
       " 'learning_rate = 0.07': 628798774.5411288,\n",
       " 'learning_rate = 0.08': 608765717.9987497,\n",
       " 'learning_rate = 0.09': 595846103.0209448,\n",
       " 'learning_rate = 0.1': 584298600.5865711,\n",
       " 'learning_rate = 0.11': 572941689.3560338,\n",
       " 'learning_rate = 0.12': 563846831.4176245,\n",
       " 'learning_rate = 0.13': 537393615.0991888}"
      ]
     },
     "execution_count": 85,
     "metadata": {},
     "output_type": "execute_result"
    }
   ],
   "source": [
    "MSEs"
   ]
  },
  {
   "cell_type": "code",
   "execution_count": 86,
   "metadata": {},
   "outputs": [],
   "source": [
    "MSEs = {}\n",
    "Mse_last = mse\n",
    "for lr in np.linspace(0.12,0.14,21):\n",
    "    params['learning_rate'] = lr\n",
    "    clf = lgb.train(params, d_train, 100)\n",
    "    y_pred=clf.predict(x_test)\n",
    "    Mse = np.mean((y_pred-y_test)**2)\n",
    "    if Mse > Mse_last:\n",
    "        break\n",
    "    MSEs.update({\"learning_rate = \" + str(round(lr,3)) : Mse})\n",
    "    Mse_last = Mse"
   ]
  },
  {
   "cell_type": "code",
   "execution_count": 87,
   "metadata": {},
   "outputs": [
    {
     "data": {
      "text/plain": [
       "{'learning_rate = 0.12': 563846831.4176245,\n",
       " 'learning_rate = 0.121': 558361811.7012626}"
      ]
     },
     "execution_count": 87,
     "metadata": {},
     "output_type": "execute_result"
    }
   ],
   "source": [
    "MSEs"
   ]
  },
  {
   "cell_type": "code",
   "execution_count": 88,
   "metadata": {},
   "outputs": [],
   "source": [
    "params['learning_rate'] = 0.121\n",
    "clf = lgb.train(params, d_train, 100)\n",
    "y_pred=clf.predict(x_test)\n",
    "Mse = np.mean((y_pred-y_test)**2)"
   ]
  },
  {
   "cell_type": "code",
   "execution_count": 89,
   "metadata": {},
   "outputs": [
    {
     "data": {
      "text/plain": [
       "6.485323967209532"
      ]
     },
     "execution_count": 89,
     "metadata": {},
     "output_type": "execute_result"
    }
   ],
   "source": [
    "(mse-Mse)/Mse  # new LR is 6.4x better than the original"
   ]
  },
  {
   "cell_type": "markdown",
   "metadata": {},
   "source": [
    "## End of Julia's LightGBM"
   ]
  },
  {
   "cell_type": "markdown",
   "metadata": {},
   "source": []
  },
  {
   "cell_type": "code",
   "execution_count": null,
   "metadata": {},
   "outputs": [],
   "source": []
  },
  {
   "cell_type": "markdown",
   "metadata": {},
   "source": [
    "## Apply the models (parameters settings) to the true testing data set"
   ]
  },
  {
   "cell_type": "code",
   "execution_count": 94,
   "metadata": {},
   "outputs": [],
   "source": [
    "import lightgbm as lgb\n",
    "\n",
    "d_train = lgb.Dataset(true_x_test, label= true_y_test)\n",
    "params = {}\n",
    "params['learning_rate'] = 0.121\n",
    "params['boosting_type'] = 'gbdt'\n",
    "params['objective'] = 'regression'\n",
    "params['metric'] = 'mse'\n",
    "params['sub_feature'] = 0.5\n",
    "params['num_leaves'] = 10\n",
    "params['min_data'] = 50\n",
    "params['max_depth'] = 10\n",
    "clf = lgb.train(params, d_train, 100)"
   ]
  },
  {
   "cell_type": "code",
   "execution_count": 95,
   "metadata": {},
   "outputs": [
    {
     "data": {
      "text/plain": [
       "array([228146.62231058, 135434.957195  , 103809.01839637, 191552.28217254,\n",
       "       104736.17907603,  97596.93539941, 318646.41266187, 140628.75377777,\n",
       "       403286.550824  , 147886.1396295 , 181710.5445598 , 123395.61526192,\n",
       "       227316.46130488, 118571.14730433, 107269.81771623, 143122.28176257,\n",
       "       188055.03750868, 121983.16221206, 143378.90708789, 146472.76209813,\n",
       "       161874.32917905, 162244.2111023 ,  98403.50762059, 182906.85409973,\n",
       "       170689.54847109, 183745.00220406, 171570.72211957,  90440.93513187,\n",
       "       353465.85234446, 112157.44272967, 112403.9706875 , 197020.61094312,\n",
       "       152944.75384323, 312812.0031497 , 341146.41866573, 193016.79252045,\n",
       "       315932.64684798, 109923.73192526, 269799.50836444, 336228.27738941,\n",
       "       253120.7445965 , 125998.98987504, 176597.16432137, 306509.1097441 ,\n",
       "       354515.50893036, 115011.22904923, 124045.4437826 , 120962.98643181,\n",
       "       156872.40675508,  92797.73491379, 391579.2807881 , 151453.80201891,\n",
       "       153770.82251363,  95544.57734644, 287255.3677761 , 122471.44845915,\n",
       "       134642.5503572 , 273145.7857101 , 140171.20350255,  94035.9583987 ,\n",
       "       139775.54478963, 132122.62545433, 136613.13824858, 191275.29732963,\n",
       "       186399.14854961, 162146.41329112, 143175.9021088 , 209646.31748994,\n",
       "       139110.81526287, 214133.07762208, 196637.89012228, 116136.57768462,\n",
       "        89434.36639765, 325383.45709543, 103785.69163455, 295381.20286443,\n",
       "       134310.27573486,  92715.11165374, 298040.72600493, 161309.82765519,\n",
       "       148386.83389079, 136694.34901456, 111044.14468715, 145385.37628135,\n",
       "       217187.2875156 , 181390.26028678, 106780.2594039 , 185483.88107646,\n",
       "       167604.97904604, 136529.81514833, 191087.64426452, 195573.49837251,\n",
       "       189212.51023238, 194203.02586737, 181399.98335305, 141988.35566875,\n",
       "       207237.21143509, 197358.70914316, 127194.72121605, 143893.73049024,\n",
       "       295513.83107533, 203328.64798623, 122103.21904924, 167985.51972799,\n",
       "       107512.33998479, 312385.81490288, 153814.63216093, 104222.6985    ,\n",
       "       191325.34049606, 136185.01302026,  95753.76634963, 122213.26145865,\n",
       "       202766.89250983, 119804.91743725, 177224.85349704, 156699.66184158,\n",
       "       362251.23851637, 140655.82187073, 204574.85256763, 301851.795926  ,\n",
       "       140310.29713445, 143567.26605238, 132222.62654649, 183195.69876672,\n",
       "       211349.59298005, 223720.17106864, 365900.09609056, 176145.55523503,\n",
       "       199105.70044832, 174359.68091235, 208884.92417631, 178944.52604123,\n",
       "       141323.80198126, 181192.19691299, 102441.04603317, 209904.09873806,\n",
       "       142840.16274953, 176517.61555073, 100128.65988645, 163261.24821464,\n",
       "       162022.4342807 , 146713.27099696, 223164.97779833, 152137.90582031,\n",
       "       104596.47091911, 169988.66239251, 216691.85565989, 141130.30546866,\n",
       "       299149.4328694 , 232961.25667539, 180587.69587085, 341310.02968109,\n",
       "       286061.15616417, 159100.73992148, 167636.67742027, 281469.1395718 ,\n",
       "       111014.23431915, 216144.45227291, 139341.81749008, 170285.43773775,\n",
       "        95779.55669776, 136193.61874571, 182058.39937868, 124479.89110858,\n",
       "       268273.4623941 , 110944.68071333, 153207.31582442, 270059.56513168,\n",
       "       203480.89685583, 180827.02361125, 187650.34252434, 167488.29273914,\n",
       "       192492.28605111, 185599.32809681, 118484.54312798, 134902.57325323,\n",
       "       133221.51745567, 276907.06573083, 108090.40929292, 133915.26126715,\n",
       "       334383.30857239, 155539.65616643, 106643.77539288, 304200.97455742,\n",
       "        83707.20797858, 159929.59444082, 103611.41319343, 191074.53741105,\n",
       "       198556.04127233, 155355.15828142, 137048.06431359, 169545.8697019 ,\n",
       "       197695.08459123, 141412.67228909, 125864.6107013 , 143145.2829349 ,\n",
       "        95239.67174461, 139883.64462257, 164057.78986598, 122938.12663383,\n",
       "       138460.16601213, 203724.13578648, 130140.12191803, 126558.29896089,\n",
       "       159209.2863601 , 184627.40003826, 155822.85941804, 332952.70415859,\n",
       "       304712.45182851,  92877.67596693, 156865.85069882, 297688.00389614,\n",
       "        94671.83009395,  95246.90402258, 364745.33633991, 144007.63498666,\n",
       "       110481.71407924, 301679.64142556, 270460.60679254,  92672.69008327,\n",
       "       193127.23664295, 126130.60827307, 109508.45014104, 135064.99598805,\n",
       "       203512.04309581, 293181.63766196, 229771.04735995, 217198.10487538,\n",
       "       137412.62268789, 142088.69355059,  96393.55267976, 144857.5959201 ,\n",
       "       104055.44209483, 140172.90524801, 277703.26169373, 136213.49968417,\n",
       "       126176.98124905, 109094.63441727,  86275.99775242, 178756.70750302,\n",
       "        99681.18016696, 192374.31497651, 188073.14228832, 200665.27114778,\n",
       "       182723.55539972, 174190.52060945, 204000.23555976, 181031.28068315,\n",
       "       155549.93099559, 202047.63468296, 173324.67713519, 293538.28214029,\n",
       "        91741.7983961 , 379447.23437065, 225525.42438412, 218590.18481604,\n",
       "        94316.48862396, 181368.33479918, 400657.24769952, 271220.52960314,\n",
       "       188288.89924692, 107860.32954883, 113583.52918093,  89834.09390036,\n",
       "       384160.57348215, 328188.89457582, 353980.13917008,  88649.24485848,\n",
       "       266413.02863973, 288535.96225353, 126575.59379516, 256290.04185845,\n",
       "       145742.22256648, 167648.18651349, 121250.82008479, 267570.14452175,\n",
       "       166903.04554724, 208382.90237694, 202715.9831863 , 106078.56964642,\n",
       "       148937.87968478, 382027.44033625, 174989.83760122, 133468.85277818,\n",
       "       191959.11100988, 153385.40937567, 121545.9768708 , 319865.54103396,\n",
       "       395497.98097192, 144804.69549694,  88797.92017208,  97566.19082326])"
      ]
     },
     "execution_count": 95,
     "metadata": {},
     "output_type": "execute_result"
    }
   ],
   "source": [
    "y_pred=clf.predict(true_x_test)\n",
    "y_pred"
   ]
  },
  {
   "cell_type": "code",
   "execution_count": 96,
   "metadata": {},
   "outputs": [
    {
     "data": {
      "text/plain": [
       "865343190.1883539"
      ]
     },
     "execution_count": 96,
     "metadata": {},
     "output_type": "execute_result"
    }
   ],
   "source": [
    "mse = np.mean((true_y_test-y_pred)**2)\n",
    "mse"
   ]
  },
  {
   "cell_type": "code",
   "execution_count": 99,
   "metadata": {
    "scrolled": true
   },
   "outputs": [
    {
     "data": {
      "image/png": "[encoded data removed]",
      "text/plain": [
       "<matplotlib.figure.Figure at 0x19b10d77710>"
      ]
     },
     "metadata": {},
     "output_type": "display_data"
    }
   ],
   "source": [
    "plt.scatter(y_pred,true_y_test)\n",
    "plt.plot(y_pred,y_pred,\"m\")\n",
    "plt.show()"
   ]
  },
  {
   "cell_type": "code",
   "execution_count": 100,
   "metadata": {},
   "outputs": [
    {
     "data": {
      "image/png": "[encoded data removed]",
      "text/plain": [
       "<matplotlib.figure.Figure at 0x19b10dd5c88>"
      ]
     },
     "metadata": {},
     "output_type": "display_data"
    }
   ],
   "source": [
    "plt.scatter(true_x_test[:,0],true_y_test-y_pred)\n",
    "plt.show()"
   ]
  },
  {
   "cell_type": "code",
   "execution_count": null,
   "metadata": {},
   "outputs": [],
   "source": []
  }
 ],
 "metadata": {
  "kernelspec": {
   "display_name": "Python 3",
   "language": "python",
   "name": "python3"
  },
  "language_info": {
   "codemirror_mode": {
    "name": "ipython",
    "version": 3
   },
   "file_extension": ".py",
   "mimetype": "text/x-python",
   "name": "python",
   "nbconvert_exporter": "python",
   "pygments_lexer": "ipython3",
   "version": "3.6.3"
  }
 },
 "nbformat": 4,
 "nbformat_minor": 2
}
