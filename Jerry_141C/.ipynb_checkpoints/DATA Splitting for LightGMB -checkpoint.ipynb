{
 "cells": [
  {
   "cell_type": "code",
   "execution_count": 1,
   "metadata": {},
   "outputs": [],
   "source": [
    "import pandas as pd\n",
    "import numpy as np\n",
    "import matplotlib.pyplot as plt\n",
    "from matplotlib.patches import Polygon\n",
    "import seaborn as sns"
   ]
  },
  {
   "cell_type": "code",
   "execution_count": 2,
   "metadata": {},
   "outputs": [
    {
     "data": {
      "text/html": [
       "<div>\n",
       "<style scoped>\n",
       "    .dataframe tbody tr th:only-of-type {\n",
       "        vertical-align: middle;\n",
       "    }\n",
       "\n",
       "    .dataframe tbody tr th {\n",
       "        vertical-align: top;\n",
       "    }\n",
       "\n",
       "    .dataframe thead th {\n",
       "        text-align: right;\n",
       "    }\n",
       "</style>\n",
       "<table border=\"1\" class=\"dataframe\">\n",
       "  <thead>\n",
       "    <tr style=\"text-align: right;\">\n",
       "      <th></th>\n",
       "      <th>Id</th>\n",
       "      <th>MSSubClass</th>\n",
       "      <th>LotFrontage</th>\n",
       "      <th>LotArea</th>\n",
       "      <th>Street</th>\n",
       "      <th>Alley</th>\n",
       "      <th>LotShape</th>\n",
       "      <th>Utilities</th>\n",
       "      <th>HouseStyle</th>\n",
       "      <th>OverallQual</th>\n",
       "      <th>...</th>\n",
       "      <th>SaleType_ConLw</th>\n",
       "      <th>SaleType_New</th>\n",
       "      <th>SaleType_Oth</th>\n",
       "      <th>SaleType_WD</th>\n",
       "      <th>SaleCondition_Abnorml</th>\n",
       "      <th>SaleCondition_AdjLand</th>\n",
       "      <th>SaleCondition_Alloca</th>\n",
       "      <th>SaleCondition_Family</th>\n",
       "      <th>SaleCondition_Normal</th>\n",
       "      <th>SaleCondition_Partial</th>\n",
       "    </tr>\n",
       "  </thead>\n",
       "  <tbody>\n",
       "    <tr>\n",
       "      <th>0</th>\n",
       "      <td>1</td>\n",
       "      <td>60</td>\n",
       "      <td>65.0</td>\n",
       "      <td>8450</td>\n",
       "      <td>2</td>\n",
       "      <td>0</td>\n",
       "      <td>4</td>\n",
       "      <td>4</td>\n",
       "      <td>2.0</td>\n",
       "      <td>7</td>\n",
       "      <td>...</td>\n",
       "      <td>0</td>\n",
       "      <td>0</td>\n",
       "      <td>0</td>\n",
       "      <td>1</td>\n",
       "      <td>0</td>\n",
       "      <td>0</td>\n",
       "      <td>0</td>\n",
       "      <td>0</td>\n",
       "      <td>1</td>\n",
       "      <td>0</td>\n",
       "    </tr>\n",
       "    <tr>\n",
       "      <th>1</th>\n",
       "      <td>2</td>\n",
       "      <td>20</td>\n",
       "      <td>80.0</td>\n",
       "      <td>9600</td>\n",
       "      <td>2</td>\n",
       "      <td>0</td>\n",
       "      <td>4</td>\n",
       "      <td>4</td>\n",
       "      <td>1.0</td>\n",
       "      <td>6</td>\n",
       "      <td>...</td>\n",
       "      <td>0</td>\n",
       "      <td>0</td>\n",
       "      <td>0</td>\n",
       "      <td>1</td>\n",
       "      <td>0</td>\n",
       "      <td>0</td>\n",
       "      <td>0</td>\n",
       "      <td>0</td>\n",
       "      <td>1</td>\n",
       "      <td>0</td>\n",
       "    </tr>\n",
       "    <tr>\n",
       "      <th>2</th>\n",
       "      <td>3</td>\n",
       "      <td>60</td>\n",
       "      <td>68.0</td>\n",
       "      <td>11250</td>\n",
       "      <td>2</td>\n",
       "      <td>0</td>\n",
       "      <td>3</td>\n",
       "      <td>4</td>\n",
       "      <td>2.0</td>\n",
       "      <td>7</td>\n",
       "      <td>...</td>\n",
       "      <td>0</td>\n",
       "      <td>0</td>\n",
       "      <td>0</td>\n",
       "      <td>1</td>\n",
       "      <td>0</td>\n",
       "      <td>0</td>\n",
       "      <td>0</td>\n",
       "      <td>0</td>\n",
       "      <td>1</td>\n",
       "      <td>0</td>\n",
       "    </tr>\n",
       "    <tr>\n",
       "      <th>3</th>\n",
       "      <td>4</td>\n",
       "      <td>70</td>\n",
       "      <td>60.0</td>\n",
       "      <td>9550</td>\n",
       "      <td>2</td>\n",
       "      <td>0</td>\n",
       "      <td>3</td>\n",
       "      <td>4</td>\n",
       "      <td>2.0</td>\n",
       "      <td>7</td>\n",
       "      <td>...</td>\n",
       "      <td>0</td>\n",
       "      <td>0</td>\n",
       "      <td>0</td>\n",
       "      <td>1</td>\n",
       "      <td>1</td>\n",
       "      <td>0</td>\n",
       "      <td>0</td>\n",
       "      <td>0</td>\n",
       "      <td>0</td>\n",
       "      <td>0</td>\n",
       "    </tr>\n",
       "    <tr>\n",
       "      <th>4</th>\n",
       "      <td>5</td>\n",
       "      <td>60</td>\n",
       "      <td>84.0</td>\n",
       "      <td>14260</td>\n",
       "      <td>2</td>\n",
       "      <td>0</td>\n",
       "      <td>3</td>\n",
       "      <td>4</td>\n",
       "      <td>2.0</td>\n",
       "      <td>8</td>\n",
       "      <td>...</td>\n",
       "      <td>0</td>\n",
       "      <td>0</td>\n",
       "      <td>0</td>\n",
       "      <td>1</td>\n",
       "      <td>0</td>\n",
       "      <td>0</td>\n",
       "      <td>0</td>\n",
       "      <td>0</td>\n",
       "      <td>1</td>\n",
       "      <td>0</td>\n",
       "    </tr>\n",
       "  </tbody>\n",
       "</table>\n",
       "<p>5 rows × 211 columns</p>\n",
       "</div>"
      ],
      "text/plain": [
       "   Id  MSSubClass  LotFrontage  LotArea  Street  Alley  LotShape  Utilities  \\\n",
       "0   1          60         65.0     8450       2      0         4          4   \n",
       "1   2          20         80.0     9600       2      0         4          4   \n",
       "2   3          60         68.0    11250       2      0         3          4   \n",
       "3   4          70         60.0     9550       2      0         3          4   \n",
       "4   5          60         84.0    14260       2      0         3          4   \n",
       "\n",
       "   HouseStyle  OverallQual          ...            SaleType_ConLw  \\\n",
       "0         2.0            7          ...                         0   \n",
       "1         1.0            6          ...                         0   \n",
       "2         2.0            7          ...                         0   \n",
       "3         2.0            7          ...                         0   \n",
       "4         2.0            8          ...                         0   \n",
       "\n",
       "   SaleType_New  SaleType_Oth  SaleType_WD  SaleCondition_Abnorml  \\\n",
       "0             0             0            1                      0   \n",
       "1             0             0            1                      0   \n",
       "2             0             0            1                      0   \n",
       "3             0             0            1                      1   \n",
       "4             0             0            1                      0   \n",
       "\n",
       "   SaleCondition_AdjLand  SaleCondition_Alloca  SaleCondition_Family  \\\n",
       "0                      0                     0                     0   \n",
       "1                      0                     0                     0   \n",
       "2                      0                     0                     0   \n",
       "3                      0                     0                     0   \n",
       "4                      0                     0                     0   \n",
       "\n",
       "   SaleCondition_Normal  SaleCondition_Partial  \n",
       "0                     1                      0  \n",
       "1                     1                      0  \n",
       "2                     1                      0  \n",
       "3                     0                      0  \n",
       "4                     1                      0  \n",
       "\n",
       "[5 rows x 211 columns]"
      ]
     },
     "execution_count": 2,
     "metadata": {},
     "output_type": "execute_result"
    }
   ],
   "source": [
    "DF= pd.read_csv(\"../Data_v4_AllNaNsReplaced_dummies.csv\")\n",
    "DF.head()"
   ]
  },
  {
   "cell_type": "code",
   "execution_count": 3,
   "metadata": {},
   "outputs": [
    {
     "data": {
      "text/plain": [
       "(1460, 211)"
      ]
     },
     "execution_count": 3,
     "metadata": {},
     "output_type": "execute_result"
    }
   ],
   "source": [
    "DF.shape"
   ]
  },
  {
   "cell_type": "code",
   "execution_count": 4,
   "metadata": {},
   "outputs": [],
   "source": [
    "# Importing the dataset\n",
    "dataset = DF.copy()\n",
    "\n",
    "# X is the predictor variable\n",
    "X = DF.iloc[:, 0:80].values\n",
    "\n",
    "# y is the response variable\n",
    "y = DF.SalePrice.values\n"
   ]
  },
  {
   "cell_type": "code",
   "execution_count": 5,
   "metadata": {},
   "outputs": [
    {
     "name": "stderr",
     "output_type": "stream",
     "text": [
      "C:\\Users\\WeiKuang\\Anaconda3\\lib\\site-packages\\sklearn\\cross_validation.py:41: DeprecationWarning: This module was deprecated in version 0.18 in favor of the model_selection module into which all the refactored classes and functions are moved. Also note that the interface of the new CV iterators are different from that of this module. This module will be removed in 0.20.\n",
      "  \"This module will be removed in 0.20.\", DeprecationWarning)\n"
     ]
    }
   ],
   "source": [
    "# Splitting data \n",
    "# Splingintg original datsa in to test (20% of data) and train(80% of data)\n",
    "from sklearn.cross_validation import train_test_split\n",
    "x_train, true_x_test, y_train, true_y_test = train_test_split(X, y, test_size = 0.20, random_state = 0)"
   ]
  },
  {
   "cell_type": "code",
   "execution_count": 6,
   "metadata": {},
   "outputs": [],
   "source": [
    "# # Splitting train into modeling_test (25% of D2) and modeling_train (75% of D2) \n",
    "x_train, x_test, y_train, y_test = train_test_split(x_train, y_train, test_size = 0.25, random_state = 0)"
   ]
  },
  {
   "cell_type": "code",
   "execution_count": 7,
   "metadata": {},
   "outputs": [
    {
     "name": "stdout",
     "output_type": "stream",
     "text": [
      "(876, 80)\n",
      "(292, 80)\n",
      "(292, 80)\n"
     ]
    }
   ],
   "source": [
    "print(x_train.shape)\n",
    "print(x_test.shape)\n",
    "print(true_x_test.shape)\n"
   ]
  },
  {
   "cell_type": "code",
   "execution_count": 297,
   "metadata": {},
   "outputs": [],
   "source": [
    "import lightgbm as lgb\n",
    "\n",
    "d_train = lgb.Dataset(x_train, label=y_train)\n",
    "params = {}\n",
    "params['learning_rate'] = 0.121\n",
    "params['boosting_type'] = 'gbdt'\n",
    "params['objective'] = 'regression'\n",
    "params['metric'] = 'mse'\n",
    "params['sub_feature'] = 0.3\n",
    "params['num_leaves'] = 8\n",
    "params['min_data'] = 2\n",
    "params['max_depth'] = 5\n",
    "clf = lgb.train(params, d_train, 100)"
   ]
  },
  {
   "cell_type": "code",
   "execution_count": 298,
   "metadata": {},
   "outputs": [
    {
     "data": {
      "text/plain": [
       "140259570.08968645"
      ]
     },
     "execution_count": 298,
     "metadata": {},
     "output_type": "execute_result"
    }
   ],
   "source": [
    "#Prediction\n",
    "y_pred=clf.predict(x_test)\n",
    "mse = np.mean((y_test-y_pred)**2)\n",
    "mse\n"
   ]
  },
  {
   "cell_type": "code",
   "execution_count": 293,
   "metadata": {},
   "outputs": [
    {
     "data": {
      "text/plain": [
       "False"
      ]
     },
     "execution_count": 293,
     "metadata": {},
     "output_type": "execute_result"
    }
   ],
   "source": [
    "140259570 > 4179519051"
   ]
  },
  {
   "cell_type": "markdown",
   "metadata": {},
   "source": [
    "## Julia's LightGBM procedure"
   ]
  },
  {
   "cell_type": "code",
   "execution_count": 299,
   "metadata": {},
   "outputs": [],
   "source": [
    "import lightgbm as lgb\n",
    "\n",
    "d_train = lgb.Dataset(x_train, label=y_train)\n",
    "params = {}\n",
    "params['learning_rate'] = 0.003\n",
    "params['boosting_type'] = 'gbdt'\n",
    "params['objective'] = 'regression'\n",
    "params['metric'] = 'mse'\n",
    "params['sub_feature'] = 0.5\n",
    "params['num_leaves'] = 10\n",
    "params['min_data'] = 50\n",
    "params['max_depth'] = 10\n",
    "clf = lgb.train(params, d_train, 100)"
   ]
  },
  {
   "cell_type": "code",
   "execution_count": 300,
   "metadata": {},
   "outputs": [
    {
     "data": {
      "text/plain": [
       "4179519051.5019965"
      ]
     },
     "execution_count": 300,
     "metadata": {},
     "output_type": "execute_result"
    }
   ],
   "source": [
    "#Prediction\n",
    "y_pred=clf.predict(x_test)\n",
    "mse = np.mean((y_test-y_pred)**2)\n",
    "mse"
   ]
  },
  {
   "cell_type": "code",
   "execution_count": 269,
   "metadata": {},
   "outputs": [
    {
     "data": {
      "text/plain": [
       "4179519051.5019965"
      ]
     },
     "execution_count": 269,
     "metadata": {},
     "output_type": "execute_result"
    }
   ],
   "source": [
    "mse = np.mean((y_test-y_pred)**2)\n",
    "mse"
   ]
  },
  {
   "cell_type": "code",
   "execution_count": 270,
   "metadata": {},
   "outputs": [
    {
     "data": {
      "image/png": "[encoded data removed]",
      "text/plain": [
       "<matplotlib.figure.Figure at 0x1dd676a35f8>"
      ]
     },
     "metadata": {},
     "output_type": "display_data"
    }
   ],
   "source": [
    "plt.scatter(y_pred,y_test)\n",
    "plt.plot(y_pred,y_pred,\"m\")\n",
    "plt.show()"
   ]
  },
  {
   "cell_type": "code",
   "execution_count": 271,
   "metadata": {},
   "outputs": [
    {
     "data": {
      "image/png": "[encoded data removed]",
      "text/plain": [
       "<matplotlib.figure.Figure at 0x1dd675f27f0>"
      ]
     },
     "metadata": {},
     "output_type": "display_data"
    }
   ],
   "source": [
    "plt.scatter(x_test[:,0],y_test-y_pred)\n",
    "plt.show()"
   ]
  },
  {
   "cell_type": "code",
   "execution_count": 301,
   "metadata": {},
   "outputs": [],
   "source": [
    "MSEs = {}\n",
    "Mse_last = mse\n",
    "for lr in np.linspace(0.01,1,100):\n",
    "    params['learning_rate'] = lr\n",
    "    clf = lgb.train(params, d_train, 100)\n",
    "    y_pred=clf.predict(x_test)\n",
    "    Mse = np.mean((y_pred-y_test)**2)\n",
    "    if Mse > Mse_last:\n",
    "        break\n",
    "    MSEs.update({\"learning_rate = \" + str(round(lr,3)) : Mse})\n",
    "    Mse_last = Mse"
   ]
  },
  {
   "cell_type": "code",
   "execution_count": 302,
   "metadata": {},
   "outputs": [
    {
     "data": {
      "text/plain": [
       "{'learning_rate = 0.01': 1889233600.851637,\n",
       " 'learning_rate = 0.02': 1003702688.1057637,\n",
       " 'learning_rate = 0.03': 790320930.5781779,\n",
       " 'learning_rate = 0.04': 715325108.123973,\n",
       " 'learning_rate = 0.05': 676212482.6802417,\n",
       " 'learning_rate = 0.06': 651365118.6561786,\n",
       " 'learning_rate = 0.07': 628798774.5411288,\n",
       " 'learning_rate = 0.08': 608765717.9987497,\n",
       " 'learning_rate = 0.09': 595846103.0209448,\n",
       " 'learning_rate = 0.1': 584298600.5865711,\n",
       " 'learning_rate = 0.11': 572941689.3560338,\n",
       " 'learning_rate = 0.12': 563846831.4176245,\n",
       " 'learning_rate = 0.13': 537393615.0991888}"
      ]
     },
     "execution_count": 302,
     "metadata": {},
     "output_type": "execute_result"
    }
   ],
   "source": [
    "MSEs"
   ]
  },
  {
   "cell_type": "code",
   "execution_count": 303,
   "metadata": {},
   "outputs": [],
   "source": [
    "MSEs = {}\n",
    "Mse_last = mse\n",
    "for lr in np.linspace(0.12,0.14,21):\n",
    "    params['learning_rate'] = lr\n",
    "    clf = lgb.train(params, d_train, 100)\n",
    "    y_pred=clf.predict(x_test)\n",
    "    Mse = np.mean((y_pred-y_test)**2)\n",
    "    if Mse > Mse_last:\n",
    "        break\n",
    "    MSEs.update({\"learning_rate = \" + str(round(lr,3)) : Mse})\n",
    "    Mse_last = Mse"
   ]
  },
  {
   "cell_type": "code",
   "execution_count": 275,
   "metadata": {},
   "outputs": [
    {
     "data": {
      "text/plain": [
       "{'learning_rate = 0.12': 563846831.4176245,\n",
       " 'learning_rate = 0.121': 558361811.7012626}"
      ]
     },
     "execution_count": 275,
     "metadata": {},
     "output_type": "execute_result"
    }
   ],
   "source": [
    "MSEs  # optimial learning_rate = 0.121"
   ]
  },
  {
   "cell_type": "code",
   "execution_count": 276,
   "metadata": {},
   "outputs": [],
   "source": [
    "# Final test for learning_rate\n",
    "params['learning_rate'] = 0.121\n",
    "clf = lgb.train(params, d_train, 100)\n",
    "y_pred=clf.predict(x_test)\n",
    "Mse = np.mean((y_pred-y_test)**2)"
   ]
  },
  {
   "cell_type": "code",
   "execution_count": 277,
   "metadata": {},
   "outputs": [
    {
     "data": {
      "text/plain": [
       "6.485323967209532"
      ]
     },
     "execution_count": 277,
     "metadata": {},
     "output_type": "execute_result"
    }
   ],
   "source": [
    "(mse-Mse)/Mse  # new LR is 6.4x better than the original"
   ]
  },
  {
   "cell_type": "markdown",
   "metadata": {},
   "source": [
    "#### Optimization for sub_feature ,  ANS = 0.3"
   ]
  },
  {
   "cell_type": "code",
   "execution_count": 278,
   "metadata": {},
   "outputs": [
    {
     "data": {
      "text/plain": [
       "{'sub_feature = 0.1': 786565266.4007452,\n",
       " 'sub_feature = 0.2': 625967723.1986251,\n",
       " 'sub_feature = 0.3': 586777361.8041312}"
      ]
     },
     "execution_count": 278,
     "metadata": {},
     "output_type": "execute_result"
    }
   ],
   "source": [
    "MSEs = {}\n",
    "Mse_last = mse\n",
    "for sf in np.linspace(0.1,1,10):\n",
    "    params['learning_rate'] = 0.121\n",
    "    params['sub_feature'] = sf\n",
    "    clf = lgb.train(params, d_train, 100)\n",
    "    y_pred=clf.predict(x_test)\n",
    "    Mse = np.mean((y_pred-y_test)**2)\n",
    "    if Mse > Mse_last:\n",
    "        break\n",
    "    MSEs.update({\"sub_feature = \" + str(round(sf,3)) : Mse})\n",
    "    Mse_last = Mse\n",
    "\n",
    "MSEs"
   ]
  },
  {
   "cell_type": "markdown",
   "metadata": {},
   "source": [
    "#### Optimization for num_leaves  ( the input needs to be int),  ANS =8"
   ]
  },
  {
   "cell_type": "code",
   "execution_count": 279,
   "metadata": {},
   "outputs": [
    {
     "data": {
      "text/plain": [
       "{'num_leaves = 2': 737274437.5261226,\n",
       " 'num_leaves = 3': 656000322.8665174,\n",
       " 'num_leaves = 4': 644268383.3375119,\n",
       " 'num_leaves = 5': 637989431.0896362,\n",
       " 'num_leaves = 6': 628075859.9761411,\n",
       " 'num_leaves = 7': 597301051.6879051,\n",
       " 'num_leaves = 8': 591468770.1057334}"
      ]
     },
     "execution_count": 279,
     "metadata": {},
     "output_type": "execute_result"
    }
   ],
   "source": [
    "MSEs = {}\n",
    "Mse_last = mse\n",
    "for nl in range(2,10):\n",
    "    params['learning_rate'] = 0.121\n",
    "    params['sub_feature'] = 0.3\n",
    "    params['num_leaves'] = nl\n",
    "    clf = lgb.train(params, d_train, 100)\n",
    "    y_pred=clf.predict(x_test)\n",
    "    Mse = np.mean((y_pred-y_test)**2)\n",
    "    if Mse > Mse_last:\n",
    "        break\n",
    "    MSEs.update({\"num_leaves = \" + str(round(nl,3)) : Mse})\n",
    "    Mse_last = Mse\n",
    "\n",
    "MSEs"
   ]
  },
  {
   "cell_type": "markdown",
   "metadata": {},
   "source": [
    "#### Optimization for min_data,  ANS = 2"
   ]
  },
  {
   "cell_type": "code",
   "execution_count": 280,
   "metadata": {},
   "outputs": [
    {
     "data": {
      "text/plain": [
       "{'min_data = 1': 303918468.9420912, 'min_data = 2': 283786331.50798005}"
      ]
     },
     "execution_count": 280,
     "metadata": {},
     "output_type": "execute_result"
    }
   ],
   "source": [
    "MSEs = {}\n",
    "Mse_last = mse\n",
    "for md in range(1,50):\n",
    "    params['learning_rate'] = 0.121\n",
    "    params['sub_feature'] = 0.3\n",
    "    params['num_leaves'] = 8\n",
    "    params['min_data'] = md\n",
    "    clf = lgb.train(params, d_train, 100)\n",
    "    y_pred=clf.predict(x_test)\n",
    "    Mse = np.mean((y_pred-y_test)**2)\n",
    "    if Mse > Mse_last:\n",
    "        break\n",
    "    MSEs.update({\"min_data = \" + str(round(md,3)) : Mse})\n",
    "    Mse_last = Mse\n",
    "\n",
    "MSEs"
   ]
  },
  {
   "cell_type": "code",
   "execution_count": 281,
   "metadata": {},
   "outputs": [
    {
     "data": {
      "text/plain": [
       "{'min_data = 2': 283786331.50798005}"
      ]
     },
     "execution_count": 281,
     "metadata": {},
     "output_type": "execute_result"
    }
   ],
   "source": [
    "MSEs = {}\n",
    "Mse_last = mse\n",
    "for md in range(2,4):\n",
    "    params['learning_rate'] = 0.121\n",
    "    params['sub_feature'] = 0.3\n",
    "    params['num_leaves'] = 8\n",
    "    params['min_data'] = md\n",
    "    clf = lgb.train(params, d_train, 100)\n",
    "    y_pred=clf.predict(x_test)\n",
    "    Mse = np.mean((y_pred-y_test)**2)\n",
    "    if Mse > Mse_last:\n",
    "        break\n",
    "    MSEs.update({\"min_data = \" + str(round(md,3)) : Mse})\n",
    "    Mse_last = Mse\n",
    "\n",
    "MSEs"
   ]
  },
  {
   "cell_type": "markdown",
   "metadata": {},
   "source": [
    "## Optimization for min_data, ANS = 5"
   ]
  },
  {
   "cell_type": "code",
   "execution_count": 304,
   "metadata": {},
   "outputs": [
    {
     "data": {
      "text/plain": [
       "{'max_depth = 1': 367667599.93893003,\n",
       " 'max_depth = 10': 283786331.50798005,\n",
       " 'max_depth = 11': 283786331.50798005,\n",
       " 'max_depth = 12': 283786331.50798005,\n",
       " 'max_depth = 13': 283786331.50798005,\n",
       " 'max_depth = 14': 283786331.50798005,\n",
       " 'max_depth = 15': 283786331.50798005,\n",
       " 'max_depth = 16': 283786331.50798005,\n",
       " 'max_depth = 17': 283786331.50798005,\n",
       " 'max_depth = 18': 283786331.50798005,\n",
       " 'max_depth = 19': 283786331.50798005,\n",
       " 'max_depth = 2': 368766100.9287893,\n",
       " 'max_depth = 3': 323062879.4542025,\n",
       " 'max_depth = 4': 320081458.0189372,\n",
       " 'max_depth = 5': 270536487.00089747,\n",
       " 'max_depth = 6': 283326327.15449464,\n",
       " 'max_depth = 7': 283786331.50798005,\n",
       " 'max_depth = 8': 283786331.50798005,\n",
       " 'max_depth = 9': 283786331.50798005}"
      ]
     },
     "execution_count": 304,
     "metadata": {},
     "output_type": "execute_result"
    }
   ],
   "source": [
    "MSEs = {}\n",
    "Mse_last = mse\n",
    "for maxd in range(1,20):\n",
    "    params['learning_rate'] = 0.121\n",
    "    params['sub_feature'] = 0.3\n",
    "    params['num_leaves'] = 8\n",
    "    params['min_data'] = 2\n",
    "    params['max_depth'] = maxd\n",
    "    clf = lgb.train(params, d_train, 100)\n",
    "    y_pred=clf.predict(x_test)\n",
    "    Mse = np.mean((y_pred-y_test)**2)\n",
    "    #if Mse > Mse_last:\n",
    "    #    break\n",
    "    MSEs.update({\"max_depth = \" + str(round(maxd,3)) : Mse})\n",
    "    Mse_last = Mse\n",
    "\n",
    "MSEs"
   ]
  },
  {
   "cell_type": "markdown",
   "metadata": {},
   "source": [
    "## End of Julia's LightGBM\n",
    "the optimal parameters are:\n",
    "params['learning_rate'] = 0.121\n",
    "params['boosting_type'] = 'gbdt'\n",
    "params['objective'] = 'regression'\n",
    "params['metric'] = 'mse'\n",
    "params['sub_feature'] = 0.3\n",
    "params['num_leaves'] = 8\n",
    "params['min_data'] = 2\n",
    "params['max_depth'] = 5"
   ]
  },
  {
   "cell_type": "markdown",
   "metadata": {},
   "source": [
    "## Apply the models (parameters settings) to the true testing data set"
   ]
  },
  {
   "cell_type": "code",
   "execution_count": 306,
   "metadata": {},
   "outputs": [],
   "source": [
    "import lightgbm as lgb\n",
    "\n",
    "d_train = lgb.Dataset(true_x_test, label= true_y_test)\n",
    "params = {}\n",
    "params['learning_rate'] = 0.121\n",
    "params['boosting_type'] = 'gbdt'\n",
    "params['objective'] = 'regression'\n",
    "params['metric'] = 'mse'\n",
    "params['sub_feature'] = 0.3\n",
    "params['num_leaves'] = 8\n",
    "params['min_data'] = 2\n",
    "params['max_depth'] = 5\n",
    "clf = lgb.train(params, d_train, 100)"
   ]
  },
  {
   "cell_type": "code",
   "execution_count": 307,
   "metadata": {},
   "outputs": [
    {
     "data": {
      "text/plain": [
       "array([188186.9828877 , 172387.63406461, 163364.01784277, 184816.2342942 ,\n",
       "       165889.8799212 , 163226.85854097, 214883.19182097, 171578.32420039,\n",
       "       215111.93264101, 176515.49801987, 186142.15020292, 172986.21870167,\n",
       "       187034.8281451 , 167661.25726479, 169328.80075322, 169584.00859533,\n",
       "       186788.34586202, 169034.96200792, 170807.4736756 , 179492.16321005,\n",
       "       173966.33160656, 174006.27223913, 162028.91771871, 177884.90579601,\n",
       "       180993.34903967, 189732.56408827, 179166.33200854, 161913.60208554,\n",
       "       215111.93264101, 165108.19073472, 168077.68004954, 186680.19173639,\n",
       "       176093.87324026, 211449.03649579, 215111.93264101, 180198.63027375,\n",
       "       214384.93424208, 163196.81129425, 203294.33265482, 215111.93264101,\n",
       "       199463.31271276, 168630.3383405 , 181589.11042646, 215111.93264101,\n",
       "       215111.93264101, 170684.4057534 , 166799.39400297, 168420.71592452,\n",
       "       177841.31591438, 161726.02913568, 215111.93264101, 173805.35075048,\n",
       "       176989.35687948, 162575.37937827, 206723.19496727, 167002.50554355,\n",
       "       168364.57673626, 211449.03649579, 169162.17735551, 161726.02913568,\n",
       "       171603.05476006, 169140.99154355, 169964.24976918, 175748.50546057,\n",
       "       184856.30100905, 179540.25845472, 168334.08795475, 185152.43069139,\n",
       "       168651.12212806, 187034.8281451 , 186249.40451399, 167556.47025506,\n",
       "       161898.01685838, 214384.93424208, 162414.31058576, 214883.19182097,\n",
       "       168891.11047373, 161726.02913568, 206137.19026237, 176585.18583431,\n",
       "       168127.89180982, 169013.22620695, 163929.06772536, 169286.73730374,\n",
       "       182293.64580124, 183122.82239355, 162285.20441759, 186142.15020292,\n",
       "       181566.39381639, 171373.96449855, 182478.77679221, 182084.15516285,\n",
       "       182437.94557247, 187034.8281451 , 181840.88572228, 176506.54842335,\n",
       "       189912.30065922, 179267.7735704 , 167002.50554355, 175047.44680101,\n",
       "       207203.71108312, 187040.12115783, 168581.64409428, 176521.38902059,\n",
       "       165637.25779864, 211089.10707434, 168626.33000322, 163092.3741945 ,\n",
       "       179055.16549938, 170833.6422259 , 162580.03317343, 166360.63771322,\n",
       "       182394.35569084, 165745.9341592 , 183121.92257899, 175337.2642235 ,\n",
       "       215111.93264101, 168999.26459936, 182394.35569084, 211202.55421271,\n",
       "       174165.29904009, 176889.96417538, 168537.71979829, 180263.19451775,\n",
       "       190222.5011872 , 189912.30065922, 215111.93264101, 186142.15020292,\n",
       "       185946.64889992, 178345.86091133, 184367.71761465, 186393.92549873,\n",
       "       168959.75893755, 184358.80676318, 162315.7482635 , 190222.5011872 ,\n",
       "       172724.71482424, 179472.43834282, 162922.45814456, 179584.68666216,\n",
       "       176396.37004802, 168709.61175698, 184767.43820979, 170294.40722608,\n",
       "       164239.3984104 , 177884.90579601, 198382.49804091, 170933.08726012,\n",
       "       214613.67506212, 190158.78294229, 181079.14010605, 214865.45035793,\n",
       "       215111.93264101, 170279.64908001, 188053.37814596, 202628.78278521,\n",
       "       163776.37888437, 192606.41792242, 169647.14801076, 180087.46376459,\n",
       "       162138.23978198, 169548.78494276, 186501.17980981, 168365.73207558,\n",
       "       214883.19182097, 163939.62332699, 175359.21950575, 203294.33265482,\n",
       "       186142.15020292, 179370.04852471, 176789.03032082, 177203.64062597,\n",
       "       183972.04689536, 176908.96970464, 163710.51663711, 167827.73508811,\n",
       "       169483.73577005, 201021.64970678, 166401.83136792, 171657.58454035,\n",
       "       215111.93264101, 180155.94020667, 165693.92988817, 215111.93264101,\n",
       "       161898.01685838, 179402.46392702, 165824.8307485 , 186393.92549873,\n",
       "       188420.06696582, 178262.83804686, 169034.96200792, 176728.90841736,\n",
       "       189912.30065922, 170335.85444962, 167753.63667742, 171518.56063101,\n",
       "       162244.70552089, 171310.64069489, 177444.68802211, 167265.73365284,\n",
       "       169485.81919415, 194257.3454324 , 167488.75862815, 168927.69472771,\n",
       "       173546.40841564, 179375.87870454, 176793.95759006, 215111.93264101,\n",
       "       215111.93264101, 161726.02913568, 174235.39587576, 214384.93424208,\n",
       "       162440.82267288, 161892.02328847, 215111.93264101, 173794.10519293,\n",
       "       171087.4523352 , 206951.93578731, 214883.19182097, 162022.9241488 ,\n",
       "       185320.77929115, 168899.78095752, 166979.56479328, 167498.43519406,\n",
       "       188168.29167   , 203540.8149379 , 198605.94584821, 188186.9828877 ,\n",
       "       169991.26748776, 177467.2199158 , 162612.81039559, 178077.14220978,\n",
       "       162366.11102541, 169868.92938285, 203289.03964209, 171578.32420039,\n",
       "       169892.68729044, 162007.33892165, 162990.34301628, 179681.83791134,\n",
       "       162386.27975779, 179370.04852471, 187034.8281451 , 187034.8281451 ,\n",
       "       178305.98055039, 189068.09948229, 193986.03921535, 186249.40451399,\n",
       "       174621.21795357, 190164.07595503, 179379.22365541, 211449.03649579,\n",
       "       161726.02913568, 215111.93264101, 194360.57228879, 190451.24200725,\n",
       "       161726.02913568, 183867.02718936, 215111.93264101, 194304.68136757,\n",
       "       190143.52764345, 164015.14959267, 170170.32701674, 162997.90150145,\n",
       "       215111.93264101, 214613.67506212, 214771.29454594, 161726.02913568,\n",
       "       202739.74792946, 215111.93264101, 167959.68563552, 202481.64912515,\n",
       "       169573.30300692, 179520.80311203, 167121.76224405, 203294.33265482,\n",
       "       190179.52875906, 184370.99940895, 187034.8281451 , 162663.87785015,\n",
       "       169896.75048616, 215111.93264101, 177026.33336849, 170228.69597921,\n",
       "       186393.92549873, 173095.54076494, 168496.60562506, 214860.1573452 ,\n",
       "       215111.93264101, 174177.13563758, 161726.02913568, 162285.20441759])"
      ]
     },
     "execution_count": 307,
     "metadata": {},
     "output_type": "execute_result"
    }
   ],
   "source": [
    "y_pred=clf.predict(true_x_test)\n",
    "y_pred"
   ]
  },
  {
   "cell_type": "code",
   "execution_count": 308,
   "metadata": {},
   "outputs": [
    {
     "data": {
      "text/plain": [
       "4764732533.46014"
      ]
     },
     "execution_count": 308,
     "metadata": {},
     "output_type": "execute_result"
    }
   ],
   "source": [
    "# final mse\n",
    "mse = np.mean((true_y_test-y_pred)**2)\n",
    "mse"
   ]
  },
  {
   "cell_type": "code",
   "execution_count": 309,
   "metadata": {
    "scrolled": true
   },
   "outputs": [
    {
     "data": {
      "image/png": "[encoded data removed]",
      "text/plain": [
       "<matplotlib.figure.Figure at 0x1dd677d22b0>"
      ]
     },
     "metadata": {},
     "output_type": "display_data"
    }
   ],
   "source": [
    "plt.scatter(y_pred,true_y_test)\n",
    "plt.plot(y_pred,y_pred,\"m\")\n",
    "plt.show()"
   ]
  },
  {
   "cell_type": "code",
   "execution_count": 310,
   "metadata": {},
   "outputs": [
    {
     "data": {
      "image/png": "[encoded data removed]",
      "text/plain": [
       "<matplotlib.figure.Figure at 0x1dd67844518>"
      ]
     },
     "metadata": {},
     "output_type": "display_data"
    }
   ],
   "source": [
    "plt.scatter(true_x_test[:,0],true_y_test-y_pred)\n",
    "plt.show()"
   ]
  },
  {
   "cell_type": "code",
   "execution_count": null,
   "metadata": {},
   "outputs": [],
   "source": []
  },
  {
   "cell_type": "code",
   "execution_count": null,
   "metadata": {},
   "outputs": [],
   "source": []
  }
 ],
 "metadata": {
  "kernelspec": {
   "display_name": "Python 3",
   "language": "python",
   "name": "python3"
  },
  "language_info": {
   "codemirror_mode": {
    "name": "ipython",
    "version": 3
   },
   "file_extension": ".py",
   "mimetype": "text/x-python",
   "name": "python",
   "nbconvert_exporter": "python",
   "pygments_lexer": "ipython3",
   "version": "3.6.3"
  }
 },
 "nbformat": 4,
 "nbformat_minor": 2
}
