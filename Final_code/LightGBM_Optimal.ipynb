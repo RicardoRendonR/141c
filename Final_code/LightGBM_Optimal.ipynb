{
 "cells": [
  {
   "cell_type": "markdown",
   "metadata": {},
   "source": [
    "Reference:\n",
    "https://medium.com/@pushkarmandot/https-medium-com-pushkarmandot-what-is-lightgbm-how-to-implement-it-how-to-fine-tune-the-parameters-60347819b7fc"
   ]
  },
  {
   "cell_type": "code",
   "execution_count": 6,
   "metadata": {
    "collapsed": true
   },
   "outputs": [],
   "source": [
    "import pandas as pd\n",
    "import numpy as np\n",
    "import matplotlib.pyplot as plt\n",
    "from matplotlib.patches import Polygon\n",
    "import seaborn as sns"
   ]
  },
  {
   "cell_type": "markdown",
   "metadata": {},
   "source": [
    "## Data loading"
   ]
  },
  {
   "cell_type": "code",
   "execution_count": 7,
   "metadata": {},
   "outputs": [
    {
     "data": {
      "text/html": [
       "<div>\n",
       "<style>\n",
       "    .dataframe thead tr:only-child th {\n",
       "        text-align: right;\n",
       "    }\n",
       "\n",
       "    .dataframe thead th {\n",
       "        text-align: left;\n",
       "    }\n",
       "\n",
       "    .dataframe tbody tr th {\n",
       "        vertical-align: top;\n",
       "    }\n",
       "</style>\n",
       "<table border=\"1\" class=\"dataframe\">\n",
       "  <thead>\n",
       "    <tr style=\"text-align: right;\">\n",
       "      <th></th>\n",
       "      <th>Id</th>\n",
       "      <th>MSSubClass</th>\n",
       "      <th>LotFrontage</th>\n",
       "      <th>LotArea</th>\n",
       "      <th>Street</th>\n",
       "      <th>Alley</th>\n",
       "      <th>LotShape</th>\n",
       "      <th>Utilities</th>\n",
       "      <th>HouseStyle</th>\n",
       "      <th>OverallQual</th>\n",
       "      <th>...</th>\n",
       "      <th>SaleType_ConLw</th>\n",
       "      <th>SaleType_New</th>\n",
       "      <th>SaleType_Oth</th>\n",
       "      <th>SaleType_WD</th>\n",
       "      <th>SaleCondition_Abnorml</th>\n",
       "      <th>SaleCondition_AdjLand</th>\n",
       "      <th>SaleCondition_Alloca</th>\n",
       "      <th>SaleCondition_Family</th>\n",
       "      <th>SaleCondition_Normal</th>\n",
       "      <th>SaleCondition_Partial</th>\n",
       "    </tr>\n",
       "  </thead>\n",
       "  <tbody>\n",
       "    <tr>\n",
       "      <th>0</th>\n",
       "      <td>1</td>\n",
       "      <td>60</td>\n",
       "      <td>65.0</td>\n",
       "      <td>8450</td>\n",
       "      <td>2</td>\n",
       "      <td>0</td>\n",
       "      <td>4</td>\n",
       "      <td>4</td>\n",
       "      <td>2.0</td>\n",
       "      <td>7</td>\n",
       "      <td>...</td>\n",
       "      <td>0</td>\n",
       "      <td>0</td>\n",
       "      <td>0</td>\n",
       "      <td>1</td>\n",
       "      <td>0</td>\n",
       "      <td>0</td>\n",
       "      <td>0</td>\n",
       "      <td>0</td>\n",
       "      <td>1</td>\n",
       "      <td>0</td>\n",
       "    </tr>\n",
       "    <tr>\n",
       "      <th>1</th>\n",
       "      <td>2</td>\n",
       "      <td>20</td>\n",
       "      <td>80.0</td>\n",
       "      <td>9600</td>\n",
       "      <td>2</td>\n",
       "      <td>0</td>\n",
       "      <td>4</td>\n",
       "      <td>4</td>\n",
       "      <td>1.0</td>\n",
       "      <td>6</td>\n",
       "      <td>...</td>\n",
       "      <td>0</td>\n",
       "      <td>0</td>\n",
       "      <td>0</td>\n",
       "      <td>1</td>\n",
       "      <td>0</td>\n",
       "      <td>0</td>\n",
       "      <td>0</td>\n",
       "      <td>0</td>\n",
       "      <td>1</td>\n",
       "      <td>0</td>\n",
       "    </tr>\n",
       "    <tr>\n",
       "      <th>2</th>\n",
       "      <td>3</td>\n",
       "      <td>60</td>\n",
       "      <td>68.0</td>\n",
       "      <td>11250</td>\n",
       "      <td>2</td>\n",
       "      <td>0</td>\n",
       "      <td>3</td>\n",
       "      <td>4</td>\n",
       "      <td>2.0</td>\n",
       "      <td>7</td>\n",
       "      <td>...</td>\n",
       "      <td>0</td>\n",
       "      <td>0</td>\n",
       "      <td>0</td>\n",
       "      <td>1</td>\n",
       "      <td>0</td>\n",
       "      <td>0</td>\n",
       "      <td>0</td>\n",
       "      <td>0</td>\n",
       "      <td>1</td>\n",
       "      <td>0</td>\n",
       "    </tr>\n",
       "    <tr>\n",
       "      <th>3</th>\n",
       "      <td>4</td>\n",
       "      <td>70</td>\n",
       "      <td>60.0</td>\n",
       "      <td>9550</td>\n",
       "      <td>2</td>\n",
       "      <td>0</td>\n",
       "      <td>3</td>\n",
       "      <td>4</td>\n",
       "      <td>2.0</td>\n",
       "      <td>7</td>\n",
       "      <td>...</td>\n",
       "      <td>0</td>\n",
       "      <td>0</td>\n",
       "      <td>0</td>\n",
       "      <td>1</td>\n",
       "      <td>1</td>\n",
       "      <td>0</td>\n",
       "      <td>0</td>\n",
       "      <td>0</td>\n",
       "      <td>0</td>\n",
       "      <td>0</td>\n",
       "    </tr>\n",
       "    <tr>\n",
       "      <th>4</th>\n",
       "      <td>5</td>\n",
       "      <td>60</td>\n",
       "      <td>84.0</td>\n",
       "      <td>14260</td>\n",
       "      <td>2</td>\n",
       "      <td>0</td>\n",
       "      <td>3</td>\n",
       "      <td>4</td>\n",
       "      <td>2.0</td>\n",
       "      <td>8</td>\n",
       "      <td>...</td>\n",
       "      <td>0</td>\n",
       "      <td>0</td>\n",
       "      <td>0</td>\n",
       "      <td>1</td>\n",
       "      <td>0</td>\n",
       "      <td>0</td>\n",
       "      <td>0</td>\n",
       "      <td>0</td>\n",
       "      <td>1</td>\n",
       "      <td>0</td>\n",
       "    </tr>\n",
       "  </tbody>\n",
       "</table>\n",
       "<p>5 rows × 211 columns</p>\n",
       "</div>"
      ],
      "text/plain": [
       "   Id  MSSubClass  LotFrontage  LotArea  Street  Alley  LotShape  Utilities  \\\n",
       "0   1          60         65.0     8450       2      0         4          4   \n",
       "1   2          20         80.0     9600       2      0         4          4   \n",
       "2   3          60         68.0    11250       2      0         3          4   \n",
       "3   4          70         60.0     9550       2      0         3          4   \n",
       "4   5          60         84.0    14260       2      0         3          4   \n",
       "\n",
       "   HouseStyle  OverallQual          ...            SaleType_ConLw  \\\n",
       "0         2.0            7          ...                         0   \n",
       "1         1.0            6          ...                         0   \n",
       "2         2.0            7          ...                         0   \n",
       "3         2.0            7          ...                         0   \n",
       "4         2.0            8          ...                         0   \n",
       "\n",
       "   SaleType_New  SaleType_Oth  SaleType_WD  SaleCondition_Abnorml  \\\n",
       "0             0             0            1                      0   \n",
       "1             0             0            1                      0   \n",
       "2             0             0            1                      0   \n",
       "3             0             0            1                      1   \n",
       "4             0             0            1                      0   \n",
       "\n",
       "   SaleCondition_AdjLand  SaleCondition_Alloca  SaleCondition_Family  \\\n",
       "0                      0                     0                     0   \n",
       "1                      0                     0                     0   \n",
       "2                      0                     0                     0   \n",
       "3                      0                     0                     0   \n",
       "4                      0                     0                     0   \n",
       "\n",
       "   SaleCondition_Normal  SaleCondition_Partial  \n",
       "0                     1                      0  \n",
       "1                     1                      0  \n",
       "2                     1                      0  \n",
       "3                     0                      0  \n",
       "4                     1                      0  \n",
       "\n",
       "[5 rows x 211 columns]"
      ]
     },
     "execution_count": 7,
     "metadata": {},
     "output_type": "execute_result"
    }
   ],
   "source": [
    "DF= pd.read_csv(\"../Data_v4_AllNaNsReplaced_dummies.csv\")\n",
    "DF.head()"
   ]
  },
  {
   "cell_type": "code",
   "execution_count": 14,
   "metadata": {},
   "outputs": [
    {
     "data": {
      "text/plain": [
       "(1460, 81)"
      ]
     },
     "execution_count": 14,
     "metadata": {},
     "output_type": "execute_result"
    }
   ],
   "source": [
    "DF.shape"
   ]
  },
  {
   "cell_type": "code",
   "execution_count": 8,
   "metadata": {},
   "outputs": [
    {
     "data": {
      "image/png": "[encoded data removed]",
      "text/plain": [
       "<matplotlib.figure.Figure at 0x21d144c16d8>"
      ]
     },
     "metadata": {},
     "output_type": "display_data"
    }
   ],
   "source": [
    "plt.scatter(DF.Id,DF.SalePrice)\n",
    "plt.show()"
   ]
  },
  {
   "cell_type": "markdown",
   "metadata": {},
   "source": [
    "## Data preprocessing"
   ]
  },
  {
   "cell_type": "code",
   "execution_count": 9,
   "metadata": {
    "collapsed": true
   },
   "outputs": [],
   "source": [
    "# Importing the dataset\n",
    "dataset = DF.copy()\n",
    "\n",
    "# X is the predictor variable\n",
    "X = DF.iloc[:, 0:80].values\n",
    "\n",
    "# y is the response variable\n",
    "y = DF.SalePrice.values\n",
    "\n",
    "# Splitting the dataset into the Training set and Test set\n",
    "from sklearn.cross_validation import train_test_split\n",
    "x_train, x_test, y_train, y_test = train_test_split(X, y, test_size = 0.25, random_state = 0)"
   ]
  },
  {
   "cell_type": "code",
   "execution_count": 10,
   "metadata": {
    "collapsed": true
   },
   "outputs": [],
   "source": [
    "import lightgbm as lgb\n",
    "\n",
    "d_train = lgb.Dataset(x_train, label=y_train)\n",
    "params = {}\n",
    "params['learning_rate'] = 0.003\n",
    "params['boosting_type'] = 'gbdt'\n",
    "params['objective'] = 'regression'\n",
    "params['metric'] = 'mse'\n",
    "params['sub_feature'] = 0.5\n",
    "params['num_leaves'] = 10\n",
    "params['min_data'] = 50\n",
    "params['max_depth'] = 10\n",
    "clf = lgb.train(params, d_train, 100)"
   ]
  },
  {
   "cell_type": "code",
   "execution_count": 11,
   "metadata": {},
   "outputs": [
    {
     "data": {
      "text/plain": [
       "array([ 186581.30349092,  170129.23468291,  164392.92165457,\n",
       "        185948.62806226,  160494.61471585,  159324.77941643,\n",
       "        208544.04812968,  168368.69705496,  236031.4075619 ,\n",
       "        176532.56177267,  186026.91693719,  170750.17505912,\n",
       "        193984.96161745,  165820.45054275,  166344.81219255,\n",
       "        170268.15375265,  188472.99201696,  165878.25614028,\n",
       "        172107.90374416,  180354.69913339,  171994.4218665 ,\n",
       "        172558.85520848,  164648.87397371,  177350.24980279,\n",
       "        183548.54350333,  184201.62290683,  178303.46999295,\n",
       "        156537.94743566,  215072.94183462,  164528.4477763 ,\n",
       "        168932.5139064 ,  185131.96073834,  173553.86517666,\n",
       "        205291.3064427 ,  234536.06134071,  179247.11889283,\n",
       "        205285.03468663,  165887.49559528,  198058.7768896 ,\n",
       "        210328.81898039,  191466.2082665 ,  168937.12642919,\n",
       "        179517.75617186,  216316.45446976,  228971.57210984,\n",
       "        167771.29467379,  166581.37104202,  166631.32414237,\n",
       "        177443.95480257,  156802.76416028,  232122.14326412,\n",
       "        173501.90220037,  175676.70818986,  160539.24455326,\n",
       "        202329.50714322,  168091.98566379,  167949.65705357,\n",
       "        199470.14308882,  169844.27467312,  164254.30825893,\n",
       "        169965.24321197,  169081.00843885,  170136.70579221,\n",
       "        176878.20511503,  184798.52330157,  176355.20782729,\n",
       "        167351.59215577,  190107.12168722,  169286.76880264,\n",
       "        189555.82134336,  182301.21014039,  165301.54874273,\n",
       "        157723.27394602,  219370.08673923,  163843.45537411,\n",
       "        203425.24425852,  168262.74690202,  158045.05398472,\n",
       "        204934.49062904,  173599.30203013,  168561.31201334,\n",
       "        169637.628136  ,  163414.35434604,  170238.48275992,\n",
       "        183100.02724683,  184190.44616433,  164440.73487807,\n",
       "        185445.30160796,  178939.40279403,  169346.12294313,\n",
       "        183366.09947333,  182882.96739373,  182243.56663746,\n",
       "        188280.93722683,  186296.23839738,  173371.40963621,\n",
       "        187053.19957759,  181203.7512412 ,  166309.31866717,\n",
       "        175532.5384911 ,  197765.80069113,  188543.15241559,\n",
       "        165257.13495274,  174394.02725014,  163309.70626544,\n",
       "        202272.82878852,  169876.9219687 ,  161619.94036218,\n",
       "        179943.38193297,  164466.5404082 ,  160822.55208974,\n",
       "        166263.35665426,  181581.72779737,  165908.2402755 ,\n",
       "        181449.35950287,  177590.90460232,  235872.38727473,\n",
       "        168590.12265944,  182268.53373425,  207335.80506472,\n",
       "        172293.78093625,  175850.56766061,  167840.3137108 ,\n",
       "        181278.60048101,  189577.55588249,  190565.13741292,\n",
       "        235386.00272865,  183710.20559095,  185468.68017043,\n",
       "        180008.93997327,  186306.62678488,  188835.19625596,\n",
       "        170982.29596397,  181564.99569207,  165020.08078093,\n",
       "        189786.95978896,  170771.26248434,  180392.8923393 ,\n",
       "        163221.59807416,  179021.3894318 ,  172956.03788133,\n",
       "        170035.20782097,  187899.61567925,  173113.30388072,\n",
       "        166326.24841119,  178498.76162697,  193216.14359154,\n",
       "        172068.92246327,  209632.04395626,  190187.97499516,\n",
       "        178688.76009854,  231156.79799869,  202678.58286133,\n",
       "        172424.27738937,  180866.24155548,  197241.72514052,\n",
       "        162267.07622301,  191507.97012884,  170207.47825387,\n",
       "        177923.92909955,  162202.09345771,  170678.74386956,\n",
       "        184696.35346853,  167312.51510969,  199297.32188751,\n",
       "        167224.76601778,  176712.38336112,  202744.43407937,\n",
       "        186300.71506104,  179540.55230775,  176657.84147567,\n",
       "        177244.13728187,  183391.94785187,  177428.8283945 ,\n",
       "        166076.72759185,  166653.30238185,  169359.42937032,\n",
       "        188979.14638842,  163580.77238321,  170421.87675806,\n",
       "        207058.79430556,  181608.9854941 ,  165306.19005814,\n",
       "        214334.79781647,  158342.59114422,  179087.36814915,\n",
       "        161787.20141203,  184653.43681437,  191015.7984354 ,\n",
       "        175374.15879952,  169396.70595688,  174589.45032292,\n",
       "        188675.29382244,  172815.1586191 ,  165967.90571216,\n",
       "        169698.99016716,  157050.78858098,  168270.28331431,\n",
       "        176794.90779949,  166269.41161139,  169359.42937032,\n",
       "        187088.90845639,  165361.46435488,  166947.95279017,\n",
       "        173150.13980495,  183297.29586992,  173828.90787295,\n",
       "        213922.84899322,  212475.78682917,  157172.67599346,\n",
       "        174289.08663359,  198900.15564161,  161409.73102486,\n",
       "        162689.99711655,  234583.23881748,  172941.57012384,\n",
       "        166712.4919753 ,  204494.32104852,  203043.10875145,\n",
       "        156537.94743566,  184521.54158607,  168740.4927595 ,\n",
       "        166454.34301706,  167064.54580729,  187286.2568641 ,\n",
       "        206314.09873803,  195863.71211295,  185699.86968449,\n",
       "        168836.09638285,  177191.58357827,  159989.58490804,\n",
       "        177466.2864173 ,  164625.73326557,  170401.0431461 ,\n",
       "        194508.75751499,  168334.14348452,  170397.94606872,\n",
       "        165416.77108752,  157402.38544314,  177159.89321602,\n",
       "        162767.58104883,  180012.1471967 ,  184720.69766547,\n",
       "        189910.62994501,  178134.97962664,  182671.38236515,\n",
       "        186718.94556428,  182751.15542903,  172922.58073377,\n",
       "        185033.18586949,  179046.94531679,  205672.74245235,\n",
       "        160571.28202931,  230513.63958193,  192864.17886231,\n",
       "        192435.42133742,  162863.42202892,  186606.87638211,\n",
       "        230475.36398314,  195476.60709326,  183535.41705377,\n",
       "        165314.03637964,  168783.476572  ,  160462.61017012,\n",
       "        235736.06849143,  231466.70087676,  229139.90060881,\n",
       "        155969.71802276,  194918.20375567,  202721.4030327 ,\n",
       "        166703.90954109,  192907.30855898,  170233.495465  ,\n",
       "        179925.79425043,  165040.18616919,  192107.57811372,\n",
       "        184671.13678793,  186079.84376646,  188185.58323374,\n",
       "        161515.11204234,  171421.13114   ,  218914.06830921,\n",
       "        176069.94684804,  170957.09047282,  185148.81020605,\n",
       "        171892.81671595,  164650.47498707,  208804.45609124,\n",
       "        234861.10696319,  174321.03594255,  155749.51166476,\n",
       "        159706.24184169,  216433.3640426 ,  164081.4192751 ,\n",
       "        171905.44496907,  209050.08567325,  191066.98916481,\n",
       "        182239.28111497,  175200.03969058,  178206.01698301,\n",
       "        160149.4345011 ,  168427.50057686,  179207.40374922,\n",
       "        182645.01395096,  175697.86553261,  171468.33345666,\n",
       "        170164.10223443,  181266.88140194,  179874.57429581,\n",
       "        178519.81652078,  163766.49873364,  176038.74479455,\n",
       "        172655.46896723,  164580.90910054,  165631.11877956,\n",
       "        174576.35039893,  211713.78266128,  161969.88291764,\n",
       "        181684.14077725,  172598.79064303,  158382.91120949,\n",
       "        205167.36567793,  165843.28201044,  187861.02026241,\n",
       "        172061.06074851,  194154.65202159,  168133.51034929,\n",
       "        217976.98104825,  190151.40997469,  168988.28259572,\n",
       "        165402.65029248,  192210.98279416,  181643.97333112,\n",
       "        185445.30160796,  179738.87702854,  173937.03999775,\n",
       "        168856.11474501,  185683.59388651,  170720.24098201,\n",
       "        167608.18072068,  233566.70222418,  174902.80951977,\n",
       "        177293.27154831,  188660.57099344,  176846.28637253,\n",
       "        170816.53184131,  165033.19857959,  161475.02900827,\n",
       "        159980.38135906,  169442.78791561,  189403.21246231,\n",
       "        218685.349383  ,  165402.65029248,  160640.9247384 ,\n",
       "        179070.94948404,  235736.06849143,  212149.57192762,\n",
       "        176825.20662028,  197086.36780011,  198702.57565591,\n",
       "        208688.54569859,  179227.89273523,  193670.9203806 ,\n",
       "        199968.90418151,  157198.49659183])"
      ]
     },
     "execution_count": 11,
     "metadata": {},
     "output_type": "execute_result"
    }
   ],
   "source": [
    "#Prediction\n",
    "y_pred=clf.predict(x_test)\n",
    "y_pred"
   ]
  },
  {
   "cell_type": "code",
   "execution_count": 12,
   "metadata": {},
   "outputs": [
    {
     "data": {
      "text/plain": [
       "4154208395.2175655"
      ]
     },
     "execution_count": 12,
     "metadata": {},
     "output_type": "execute_result"
    }
   ],
   "source": [
    "mse = np.mean((y_test-y_pred)**2)\n",
    "mse"
   ]
  },
  {
   "cell_type": "code",
   "execution_count": 13,
   "metadata": {},
   "outputs": [
    {
     "data": {
      "image/png": "[encoded data removed]",
      "text/plain": [
       "<matplotlib.figure.Figure at 0x21d14b00fd0>"
      ]
     },
     "metadata": {},
     "output_type": "display_data"
    }
   ],
   "source": [
    "plt.scatter(y_pred,y_test)\n",
    "plt.plot(y_pred,y_pred,\"m\")\n",
    "plt.show()"
   ]
  },
  {
   "cell_type": "code",
   "execution_count": 14,
   "metadata": {},
   "outputs": [
    {
     "data": {
      "image/png": "[encoded data removed]",
      "text/plain": [
       "<matplotlib.figure.Figure at 0x21d14d7f470>"
      ]
     },
     "metadata": {},
     "output_type": "display_data"
    }
   ],
   "source": [
    "plt.scatter(x_test[:,0],y_test-y_pred)\n",
    "plt.show()"
   ]
  },
  {
   "cell_type": "code",
   "execution_count": 15,
   "metadata": {
    "collapsed": true
   },
   "outputs": [],
   "source": [
    "MSEs = {}\n",
    "Mse_last = mse\n",
    "for lr in np.linspace(0.01,1,100):\n",
    "    params['learning_rate'] = lr\n",
    "    clf = lgb.train(params, d_train, 100)\n",
    "    y_pred=clf.predict(x_test)\n",
    "    Mse = np.mean((y_pred-y_test)**2)\n",
    "    if Mse > Mse_last:\n",
    "        break\n",
    "    MSEs.update({\"learning_rate = \" + str(round(lr,3)) : Mse})\n",
    "    Mse_last = Mse"
   ]
  },
  {
   "cell_type": "code",
   "execution_count": 16,
   "metadata": {},
   "outputs": [
    {
     "data": {
      "text/plain": [
       "{'learning_rate = 0.01': 1647220833.6165366,\n",
       " 'learning_rate = 0.02': 744007453.12874842,\n",
       " 'learning_rate = 0.03': 549955048.51779366,\n",
       " 'learning_rate = 0.04': 494150200.71383774,\n",
       " 'learning_rate = 0.05': 475292544.4865554,\n",
       " 'learning_rate = 0.06': 464274207.578511,\n",
       " 'learning_rate = 0.07': 456106286.11188281,\n",
       " 'learning_rate = 0.08': 443644095.87746894,\n",
       " 'learning_rate = 0.09': 430485841.96237725,\n",
       " 'learning_rate = 0.1': 424734251.78986317,\n",
       " 'learning_rate = 0.11': 423511483.03931099,\n",
       " 'learning_rate = 0.12': 408802954.98400795,\n",
       " 'learning_rate = 0.13': 389058794.90696496}"
      ]
     },
     "execution_count": 16,
     "metadata": {},
     "output_type": "execute_result"
    }
   ],
   "source": [
    "MSEs"
   ]
  },
  {
   "cell_type": "code",
   "execution_count": 17,
   "metadata": {
    "collapsed": true
   },
   "outputs": [],
   "source": [
    "MSEs = {}\n",
    "Mse_last = mse\n",
    "for lr in np.linspace(0.12,0.14,21):\n",
    "    params['learning_rate'] = lr\n",
    "    clf = lgb.train(params, d_train, 100)\n",
    "    y_pred=clf.predict(x_test)\n",
    "    Mse = np.mean((y_pred-y_test)**2)\n",
    "    if Mse > Mse_last:\n",
    "        break\n",
    "    MSEs.update({\"learning_rate = \" + str(round(lr,3)) : Mse})\n",
    "    Mse_last = Mse"
   ]
  },
  {
   "cell_type": "code",
   "execution_count": 18,
   "metadata": {},
   "outputs": [
    {
     "data": {
      "text/plain": [
       "{'learning_rate = 0.12': 408802954.98400795,\n",
       " 'learning_rate = 0.121': 408777139.01381719,\n",
       " 'learning_rate = 0.122': 404170825.89095861,\n",
       " 'learning_rate = 0.123': 402731628.78580171,\n",
       " 'learning_rate = 0.124': 393056545.44970697}"
      ]
     },
     "execution_count": 18,
     "metadata": {},
     "output_type": "execute_result"
    }
   ],
   "source": [
    "MSEs"
   ]
  },
  {
   "cell_type": "code",
   "execution_count": 19,
   "metadata": {
    "collapsed": true
   },
   "outputs": [],
   "source": [
    "params['learning_rate'] = 0.124\n",
    "clf = lgb.train(params, d_train, 100)\n",
    "y_pred=clf.predict(x_test)\n",
    "Mse = np.mean((y_pred-y_test)**2)"
   ]
  },
  {
   "cell_type": "code",
   "execution_count": 20,
   "metadata": {},
   "outputs": [
    {
     "data": {
      "text/plain": [
       "9.5689841406014988"
      ]
     },
     "execution_count": 20,
     "metadata": {},
     "output_type": "execute_result"
    }
   ],
   "source": [
    "(mse-Mse)/Mse  # new LR is 9.5x better than the original"
   ]
  },
  {
   "cell_type": "code",
   "execution_count": 25,
   "metadata": {
    "collapsed": true
   },
   "outputs": [],
   "source": [
    "d_train = lgb.Dataset(x_train, label=y_train)\n",
    "params = {}\n",
    "params['learning_rate'] = 0.0001\n",
    "params['boosting_type'] = 'goss'\n",
    "params['objective'] = 'regression'\n",
    "params['metric'] = 'mse'\n",
    "params['sub_feature'] = 0.5\n",
    "params['num_leaves'] = 10\n",
    "params['min_data'] = 50\n",
    "params['max_depth'] = 10\n",
    "clf = lgb.train(params, d_train, 100)"
   ]
  },
  {
   "cell_type": "code",
   "execution_count": 35,
   "metadata": {},
   "outputs": [
    {
     "data": {
      "text/plain": [
       "1.8987411384505149e+20"
      ]
     },
     "execution_count": 35,
     "metadata": {},
     "output_type": "execute_result"
    }
   ],
   "source": [
    "#Prediction\n",
    "y_pred=clf.predict(x_test)\n",
    "mse = np.mean((y_test-y_pred)**2)\n",
    "mse"
   ]
  },
  {
   "cell_type": "code",
   "execution_count": 42,
   "metadata": {
    "collapsed": true
   },
   "outputs": [],
   "source": [
    "MSEs = {}\n",
    "Mse_last = mse\n",
    "for lr in np.linspace(0.001,0.1,100):\n",
    "    params['learning_rate'] = lr\n",
    "    clf = lgb.train(params, d_train, 100)\n",
    "    y_pred=clf.predict(x_test)\n",
    "    Mse = np.mean((y_pred-y_test)**2)\n",
    "    if Mse > Mse_last:\n",
    "        break\n",
    "    MSEs.update({\"learning_rate = \" + str(round(lr,4)) : Mse})\n",
    "    Mse_last = Mse.copy()"
   ]
  },
  {
   "cell_type": "code",
   "execution_count": 43,
   "metadata": {},
   "outputs": [
    {
     "data": {
      "text/plain": [
       "{'learning_rate = 0.001': 5637815323.4257479,\n",
       " 'learning_rate = 0.002': 4830019070.6664124,\n",
       " 'learning_rate = 0.003': 4154208395.2175655,\n",
       " 'learning_rate = 0.004': 3587676621.653161,\n",
       " 'learning_rate = 0.005': 3113298001.0187941,\n",
       " 'learning_rate = 0.006': 2714592722.3928809,\n",
       " 'learning_rate = 0.007': 2379171078.3499951,\n",
       " 'learning_rate = 0.008': 2092539088.0748153,\n",
       " 'learning_rate = 0.009': 1852013772.1451907,\n",
       " 'learning_rate = 0.01': 1647220833.6165366,\n",
       " 'learning_rate = 0.011': 1378367105.2711682}"
      ]
     },
     "execution_count": 43,
     "metadata": {},
     "output_type": "execute_result"
    }
   ],
   "source": [
    "MSEs"
   ]
  },
  {
   "cell_type": "code",
   "execution_count": 48,
   "metadata": {
    "collapsed": true
   },
   "outputs": [],
   "source": [
    "params['boosting_type'] = 'dart'\n",
    "MSEs = {}\n",
    "Mse_last = mse\n",
    "for lr in np.linspace(0.01,1,100):\n",
    "    params['learning_rate'] = lr\n",
    "    clf = lgb.train(params, d_train, 100)\n",
    "    y_pred=clf.predict(x_test)\n",
    "    Mse = np.mean((y_pred-y_test)**2)\n",
    "    if Mse > Mse_last:\n",
    "        break\n",
    "    MSEs.update({\"learning_rate = \" + str(round(lr,4)) : Mse})\n",
    "    Mse_last = Mse.copy()"
   ]
  },
  {
   "cell_type": "code",
   "execution_count": 49,
   "metadata": {},
   "outputs": [
    {
     "data": {
      "text/plain": [
       "{'learning_rate = 0.01': 8166795039.3741226,\n",
       " 'learning_rate = 0.02': 5425671353.9183168,\n",
       " 'learning_rate = 0.03': 3817227576.1570444,\n",
       " 'learning_rate = 0.04': 2826950839.7252741,\n",
       " 'learning_rate = 0.05': 2186241273.7515783,\n",
       " 'learning_rate = 0.06': 1742061678.1769781,\n",
       " 'learning_rate = 0.07': 1437860657.0924449,\n",
       " 'learning_rate = 0.08': 1225448773.4303916,\n",
       " 'learning_rate = 0.09': 1063494936.8399695,\n",
       " 'learning_rate = 0.1': 942025322.33247042,\n",
       " 'learning_rate = 0.11': 846215002.41309166,\n",
       " 'learning_rate = 0.12': 773426978.45953155,\n",
       " 'learning_rate = 0.13': 720025627.56821287,\n",
       " 'learning_rate = 0.14': 652521779.22850287,\n",
       " 'learning_rate = 0.15': 623589967.39026701,\n",
       " 'learning_rate = 0.16': 584634914.45855057,\n",
       " 'learning_rate = 0.17': 561403913.41172075,\n",
       " 'learning_rate = 0.18': 531676612.56872302,\n",
       " 'learning_rate = 0.19': 519349082.96085984,\n",
       " 'learning_rate = 0.2': 499807573.25827813,\n",
       " 'learning_rate = 0.21': 484606071.10692877,\n",
       " 'learning_rate = 0.22': 463333253.95818239,\n",
       " 'learning_rate = 0.23': 462532408.63654685,\n",
       " 'learning_rate = 0.24': 452625432.86248308,\n",
       " 'learning_rate = 0.25': 436725486.85674131,\n",
       " 'learning_rate = 0.26': 433386350.84567952,\n",
       " 'learning_rate = 0.27': 426128997.03867269}"
      ]
     },
     "execution_count": 49,
     "metadata": {},
     "output_type": "execute_result"
    }
   ],
   "source": [
    "MSEs"
   ]
  }
 ],
 "metadata": {
  "kernelspec": {
   "display_name": "Python 3",
   "language": "python",
   "name": "python3"
  },
  "language_info": {
   "codemirror_mode": {
    "name": "ipython",
    "version": 3
   },
   "file_extension": ".py",
   "mimetype": "text/x-python",
   "name": "python",
   "nbconvert_exporter": "python",
   "pygments_lexer": "ipython3",
   "version": "3.6.3"
  }
 },
 "nbformat": 4,
 "nbformat_minor": 2
}
