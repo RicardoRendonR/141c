{
 "cells": [
  {
   "cell_type": "code",
   "execution_count": 1,
   "metadata": {},
   "outputs": [],
   "source": [
    "import pandas as pd\n",
    "import numpy as np\n",
    "import matplotlib.pyplot as plt\n",
    "from matplotlib.patches import Polygon\n",
    "import seaborn as sns"
   ]
  },
  {
   "cell_type": "code",
   "execution_count": 2,
   "metadata": {},
   "outputs": [
    {
     "data": {
      "text/html": [
       "<div>\n",
       "<style scoped>\n",
       "    .dataframe tbody tr th:only-of-type {\n",
       "        vertical-align: middle;\n",
       "    }\n",
       "\n",
       "    .dataframe tbody tr th {\n",
       "        vertical-align: top;\n",
       "    }\n",
       "\n",
       "    .dataframe thead th {\n",
       "        text-align: right;\n",
       "    }\n",
       "</style>\n",
       "<table border=\"1\" class=\"dataframe\">\n",
       "  <thead>\n",
       "    <tr style=\"text-align: right;\">\n",
       "      <th></th>\n",
       "      <th>Id</th>\n",
       "      <th>MSSubClass</th>\n",
       "      <th>LotFrontage</th>\n",
       "      <th>LotArea</th>\n",
       "      <th>Street</th>\n",
       "      <th>Alley</th>\n",
       "      <th>LotShape</th>\n",
       "      <th>Utilities</th>\n",
       "      <th>HouseStyle</th>\n",
       "      <th>OverallQual</th>\n",
       "      <th>...</th>\n",
       "      <th>SaleType_ConLw</th>\n",
       "      <th>SaleType_New</th>\n",
       "      <th>SaleType_Oth</th>\n",
       "      <th>SaleType_WD</th>\n",
       "      <th>SaleCondition_Abnorml</th>\n",
       "      <th>SaleCondition_AdjLand</th>\n",
       "      <th>SaleCondition_Alloca</th>\n",
       "      <th>SaleCondition_Family</th>\n",
       "      <th>SaleCondition_Normal</th>\n",
       "      <th>SaleCondition_Partial</th>\n",
       "    </tr>\n",
       "  </thead>\n",
       "  <tbody>\n",
       "    <tr>\n",
       "      <th>0</th>\n",
       "      <td>1</td>\n",
       "      <td>60</td>\n",
       "      <td>65.0</td>\n",
       "      <td>8450</td>\n",
       "      <td>2</td>\n",
       "      <td>0</td>\n",
       "      <td>4</td>\n",
       "      <td>4</td>\n",
       "      <td>2.0</td>\n",
       "      <td>7</td>\n",
       "      <td>...</td>\n",
       "      <td>0</td>\n",
       "      <td>0</td>\n",
       "      <td>0</td>\n",
       "      <td>1</td>\n",
       "      <td>0</td>\n",
       "      <td>0</td>\n",
       "      <td>0</td>\n",
       "      <td>0</td>\n",
       "      <td>1</td>\n",
       "      <td>0</td>\n",
       "    </tr>\n",
       "    <tr>\n",
       "      <th>1</th>\n",
       "      <td>2</td>\n",
       "      <td>20</td>\n",
       "      <td>80.0</td>\n",
       "      <td>9600</td>\n",
       "      <td>2</td>\n",
       "      <td>0</td>\n",
       "      <td>4</td>\n",
       "      <td>4</td>\n",
       "      <td>1.0</td>\n",
       "      <td>6</td>\n",
       "      <td>...</td>\n",
       "      <td>0</td>\n",
       "      <td>0</td>\n",
       "      <td>0</td>\n",
       "      <td>1</td>\n",
       "      <td>0</td>\n",
       "      <td>0</td>\n",
       "      <td>0</td>\n",
       "      <td>0</td>\n",
       "      <td>1</td>\n",
       "      <td>0</td>\n",
       "    </tr>\n",
       "    <tr>\n",
       "      <th>2</th>\n",
       "      <td>3</td>\n",
       "      <td>60</td>\n",
       "      <td>68.0</td>\n",
       "      <td>11250</td>\n",
       "      <td>2</td>\n",
       "      <td>0</td>\n",
       "      <td>3</td>\n",
       "      <td>4</td>\n",
       "      <td>2.0</td>\n",
       "      <td>7</td>\n",
       "      <td>...</td>\n",
       "      <td>0</td>\n",
       "      <td>0</td>\n",
       "      <td>0</td>\n",
       "      <td>1</td>\n",
       "      <td>0</td>\n",
       "      <td>0</td>\n",
       "      <td>0</td>\n",
       "      <td>0</td>\n",
       "      <td>1</td>\n",
       "      <td>0</td>\n",
       "    </tr>\n",
       "    <tr>\n",
       "      <th>3</th>\n",
       "      <td>4</td>\n",
       "      <td>70</td>\n",
       "      <td>60.0</td>\n",
       "      <td>9550</td>\n",
       "      <td>2</td>\n",
       "      <td>0</td>\n",
       "      <td>3</td>\n",
       "      <td>4</td>\n",
       "      <td>2.0</td>\n",
       "      <td>7</td>\n",
       "      <td>...</td>\n",
       "      <td>0</td>\n",
       "      <td>0</td>\n",
       "      <td>0</td>\n",
       "      <td>1</td>\n",
       "      <td>1</td>\n",
       "      <td>0</td>\n",
       "      <td>0</td>\n",
       "      <td>0</td>\n",
       "      <td>0</td>\n",
       "      <td>0</td>\n",
       "    </tr>\n",
       "    <tr>\n",
       "      <th>4</th>\n",
       "      <td>5</td>\n",
       "      <td>60</td>\n",
       "      <td>84.0</td>\n",
       "      <td>14260</td>\n",
       "      <td>2</td>\n",
       "      <td>0</td>\n",
       "      <td>3</td>\n",
       "      <td>4</td>\n",
       "      <td>2.0</td>\n",
       "      <td>8</td>\n",
       "      <td>...</td>\n",
       "      <td>0</td>\n",
       "      <td>0</td>\n",
       "      <td>0</td>\n",
       "      <td>1</td>\n",
       "      <td>0</td>\n",
       "      <td>0</td>\n",
       "      <td>0</td>\n",
       "      <td>0</td>\n",
       "      <td>1</td>\n",
       "      <td>0</td>\n",
       "    </tr>\n",
       "  </tbody>\n",
       "</table>\n",
       "<p>5 rows × 211 columns</p>\n",
       "</div>"
      ],
      "text/plain": [
       "   Id  MSSubClass  LotFrontage  LotArea  Street  Alley  LotShape  Utilities  \\\n",
       "0   1          60         65.0     8450       2      0         4          4   \n",
       "1   2          20         80.0     9600       2      0         4          4   \n",
       "2   3          60         68.0    11250       2      0         3          4   \n",
       "3   4          70         60.0     9550       2      0         3          4   \n",
       "4   5          60         84.0    14260       2      0         3          4   \n",
       "\n",
       "   HouseStyle  OverallQual          ...            SaleType_ConLw  \\\n",
       "0         2.0            7          ...                         0   \n",
       "1         1.0            6          ...                         0   \n",
       "2         2.0            7          ...                         0   \n",
       "3         2.0            7          ...                         0   \n",
       "4         2.0            8          ...                         0   \n",
       "\n",
       "   SaleType_New  SaleType_Oth  SaleType_WD  SaleCondition_Abnorml  \\\n",
       "0             0             0            1                      0   \n",
       "1             0             0            1                      0   \n",
       "2             0             0            1                      0   \n",
       "3             0             0            1                      1   \n",
       "4             0             0            1                      0   \n",
       "\n",
       "   SaleCondition_AdjLand  SaleCondition_Alloca  SaleCondition_Family  \\\n",
       "0                      0                     0                     0   \n",
       "1                      0                     0                     0   \n",
       "2                      0                     0                     0   \n",
       "3                      0                     0                     0   \n",
       "4                      0                     0                     0   \n",
       "\n",
       "   SaleCondition_Normal  SaleCondition_Partial  \n",
       "0                     1                      0  \n",
       "1                     1                      0  \n",
       "2                     1                      0  \n",
       "3                     0                      0  \n",
       "4                     1                      0  \n",
       "\n",
       "[5 rows x 211 columns]"
      ]
     },
     "execution_count": 2,
     "metadata": {},
     "output_type": "execute_result"
    }
   ],
   "source": [
    "DF= pd.read_csv(\"../Data_v4_AllNaNsReplaced_dummies.csv\")\n",
    "DF.head()"
   ]
  },
  {
   "cell_type": "code",
   "execution_count": 3,
   "metadata": {},
   "outputs": [
    {
     "data": {
      "text/plain": [
       "(1460, 211)"
      ]
     },
     "execution_count": 3,
     "metadata": {},
     "output_type": "execute_result"
    }
   ],
   "source": [
    "DF.shape"
   ]
  },
  {
   "cell_type": "code",
   "execution_count": 4,
   "metadata": {},
   "outputs": [],
   "source": [
    "# Importing the dataset\n",
    "dataset = DF.copy()\n",
    "\n",
    "# X is the predictor variable\n",
    "X = DF.iloc[:, 0:80].values\n",
    "\n",
    "# y is the response variable\n",
    "y = DF.SalePrice.values\n"
   ]
  },
  {
   "cell_type": "code",
   "execution_count": 5,
   "metadata": {},
   "outputs": [
    {
     "name": "stderr",
     "output_type": "stream",
     "text": [
      "C:\\Users\\WeiKuang\\Anaconda3\\lib\\site-packages\\sklearn\\cross_validation.py:41: DeprecationWarning: This module was deprecated in version 0.18 in favor of the model_selection module into which all the refactored classes and functions are moved. Also note that the interface of the new CV iterators are different from that of this module. This module will be removed in 0.20.\n",
      "  \"This module will be removed in 0.20.\", DeprecationWarning)\n"
     ]
    }
   ],
   "source": [
    "# Splitting data \n",
    "# Splingintg original datsa in to test (20% of data) and train(80% of data)\n",
    "from sklearn.cross_validation import train_test_split\n",
    "x_train, true_x_test, y_train, true_y_test = train_test_split(X, y, test_size = 0.20, random_state = 0)"
   ]
  },
  {
   "cell_type": "code",
   "execution_count": 6,
   "metadata": {},
   "outputs": [],
   "source": [
    "# # Splitting train into modeling_test (25% of D2) and modeling_train (75% of D2) \n",
    "x_train, x_test, y_train, y_test = train_test_split(x_train, y_train, test_size = 0.25, random_state = 0)"
   ]
  },
  {
   "cell_type": "code",
   "execution_count": 7,
   "metadata": {},
   "outputs": [
    {
     "name": "stdout",
     "output_type": "stream",
     "text": [
      "(876, 80)\n",
      "(292, 80)\n",
      "(292, 80)\n"
     ]
    }
   ],
   "source": [
    "print(x_train.shape)\n",
    "print(x_test.shape)\n",
    "print(true_x_test.shape)\n"
   ]
  },
  {
   "cell_type": "code",
   "execution_count": 297,
   "metadata": {},
   "outputs": [],
   "source": [
    "import lightgbm as lgb\n",
    "\n",
    "d_train = lgb.Dataset(x_train, label=y_train)\n",
    "params = {}\n",
    "params['learning_rate'] = 0.121\n",
    "params['boosting_type'] = 'gbdt'\n",
    "params['objective'] = 'regression'\n",
    "params['metric'] = 'mse'\n",
    "params['sub_feature'] = 0.3\n",
    "params['num_leaves'] = 8\n",
    "params['min_data'] = 2\n",
    "params['max_depth'] = 5\n",
    "clf = lgb.train(params, d_train, 100)"
   ]
  },
  {
   "cell_type": "code",
   "execution_count": 298,
   "metadata": {},
   "outputs": [
    {
     "data": {
      "text/plain": [
       "140259570.08968645"
      ]
     },
     "execution_count": 298,
     "metadata": {},
     "output_type": "execute_result"
    }
   ],
   "source": [
    "#Prediction\n",
    "y_pred=clf.predict(x_test)\n",
    "mse = np.mean((y_test-y_pred)**2)\n",
    "mse\n"
   ]
  },
  {
   "cell_type": "code",
   "execution_count": 293,
   "metadata": {},
   "outputs": [
    {
     "data": {
      "text/plain": [
       "False"
      ]
     },
     "execution_count": 293,
     "metadata": {},
     "output_type": "execute_result"
    }
   ],
   "source": [
    "140259570 > 4179519051"
   ]
  },
  {
   "cell_type": "markdown",
   "metadata": {},
   "source": [
    "## Julia's LightGBM procedure"
   ]
  },
  {
   "cell_type": "code",
   "execution_count": 299,
   "metadata": {},
   "outputs": [],
   "source": [
    "import lightgbm as lgb\n",
    "\n",
    "d_train = lgb.Dataset(x_train, label=y_train)\n",
    "params = {}\n",
    "params['learning_rate'] = 0.003\n",
    "params['boosting_type'] = 'gbdt'\n",
    "params['objective'] = 'regression'\n",
    "params['metric'] = 'mse'\n",
    "params['sub_feature'] = 0.5\n",
    "params['num_leaves'] = 10\n",
    "params['min_data'] = 50\n",
    "params['max_depth'] = 10\n",
    "clf = lgb.train(params, d_train, 100)"
   ]
  },
  {
   "cell_type": "code",
   "execution_count": 300,
   "metadata": {},
   "outputs": [
    {
     "data": {
      "text/plain": [
       "4179519051.5019965"
      ]
     },
     "execution_count": 300,
     "metadata": {},
     "output_type": "execute_result"
    }
   ],
   "source": [
    "#Prediction\n",
    "y_pred=clf.predict(x_test)\n",
    "mse = np.mean((y_test-y_pred)**2)\n",
    "mse"
   ]
  },
  {
   "cell_type": "code",
   "execution_count": 269,
   "metadata": {},
   "outputs": [
    {
     "data": {
      "text/plain": [
       "4179519051.5019965"
      ]
     },
     "execution_count": 269,
     "metadata": {},
     "output_type": "execute_result"
    }
   ],
   "source": [
    "mse = np.mean((y_test-y_pred)**2)\n",
    "mse"
   ]
  },
  {
   "cell_type": "code",
   "execution_count": 270,
   "metadata": {},
   "outputs": [
    {
     "data": {
      "image/png": "[encoded data removed]",
      "text/plain": [
       "<matplotlib.figure.Figure at 0x1dd676a35f8>"
      ]
     },
     "metadata": {},
     "output_type": "display_data"
    }
   ],
   "source": [
    "plt.scatter(y_pred,y_test)\n",
    "plt.plot(y_pred,y_pred,\"m\")\n",
    "plt.show()"
   ]
  },
  {
   "cell_type": "code",
   "execution_count": 271,
   "metadata": {},
   "outputs": [
    {
     "data": {
      "image/png": "[encoded data removed]",
      "text/plain": [
       "<matplotlib.figure.Figure at 0x1dd675f27f0>"
      ]
     },
     "metadata": {},
     "output_type": "display_data"
    }
   ],
   "source": [
    "plt.scatter(x_test[:,0],y_test-y_pred)\n",
    "plt.show()"
   ]
  },
  {
   "cell_type": "code",
   "execution_count": 301,
   "metadata": {},
   "outputs": [],
   "source": [
    "MSEs = {}\n",
    "Mse_last = mse\n",
    "for lr in np.linspace(0.01,1,100):\n",
    "    params['learning_rate'] = lr\n",
    "    clf = lgb.train(params, d_train, 100)\n",
    "    y_pred=clf.predict(x_test)\n",
    "    Mse = np.mean((y_pred-y_test)**2)\n",
    "    if Mse > Mse_last:\n",
    "        break\n",
    "    MSEs.update({\"learning_rate = \" + str(round(lr,3)) : Mse})\n",
    "    Mse_last = Mse"
   ]
  },
  {
   "cell_type": "code",
   "execution_count": 302,
   "metadata": {},
   "outputs": [
    {
     "data": {
      "text/plain": [
       "{'learning_rate = 0.01': 1889233600.851637,\n",
       " 'learning_rate = 0.02': 1003702688.1057637,\n",
       " 'learning_rate = 0.03': 790320930.5781779,\n",
       " 'learning_rate = 0.04': 715325108.123973,\n",
       " 'learning_rate = 0.05': 676212482.6802417,\n",
       " 'learning_rate = 0.06': 651365118.6561786,\n",
       " 'learning_rate = 0.07': 628798774.5411288,\n",
       " 'learning_rate = 0.08': 608765717.9987497,\n",
       " 'learning_rate = 0.09': 595846103.0209448,\n",
       " 'learning_rate = 0.1': 584298600.5865711,\n",
       " 'learning_rate = 0.11': 572941689.3560338,\n",
       " 'learning_rate = 0.12': 563846831.4176245,\n",
       " 'learning_rate = 0.13': 537393615.0991888}"
      ]
     },
     "execution_count": 302,
     "metadata": {},
     "output_type": "execute_result"
    }
   ],
   "source": [
    "MSEs"
   ]
  },
  {
   "cell_type": "code",
   "execution_count": 303,
   "metadata": {},
   "outputs": [],
   "source": [
    "MSEs = {}\n",
    "Mse_last = mse\n",
    "for lr in np.linspace(0.12,0.14,21):\n",
    "    params['learning_rate'] = lr\n",
    "    clf = lgb.train(params, d_train, 100)\n",
    "    y_pred=clf.predict(x_test)\n",
    "    Mse = np.mean((y_pred-y_test)**2)\n",
    "    if Mse > Mse_last:\n",
    "        break\n",
    "    MSEs.update({\"learning_rate = \" + str(round(lr,3)) : Mse})\n",
    "    Mse_last = Mse"
   ]
  },
  {
   "cell_type": "code",
   "execution_count": 275,
   "metadata": {},
   "outputs": [
    {
     "data": {
      "text/plain": [
       "{'learning_rate = 0.12': 563846831.4176245,\n",
       " 'learning_rate = 0.121': 558361811.7012626}"
      ]
     },
     "execution_count": 275,
     "metadata": {},
     "output_type": "execute_result"
    }
   ],
   "source": [
    "MSEs  # optimial learning_rate = 0.121"
   ]
  },
  {
   "cell_type": "code",
   "execution_count": 276,
   "metadata": {},
   "outputs": [],
   "source": [
    "# Final test for learning_rate\n",
    "params['learning_rate'] = 0.121\n",
    "clf = lgb.train(params, d_train, 100)\n",
    "y_pred=clf.predict(x_test)\n",
    "Mse = np.mean((y_pred-y_test)**2)"
   ]
  },
  {
   "cell_type": "code",
   "execution_count": 277,
   "metadata": {},
   "outputs": [
    {
     "data": {
      "text/plain": [
       "6.485323967209532"
      ]
     },
     "execution_count": 277,
     "metadata": {},
     "output_type": "execute_result"
    }
   ],
   "source": [
    "(mse-Mse)/Mse  # new LR is 6.4x better than the original"
   ]
  },
  {
   "cell_type": "markdown",
   "metadata": {},
   "source": [
    "#### Optimization for sub_feature ,  ANS = 0.3"
   ]
  },
  {
   "cell_type": "code",
   "execution_count": 278,
   "metadata": {},
   "outputs": [
    {
     "data": {
      "text/plain": [
       "{'sub_feature = 0.1': 786565266.4007452,\n",
       " 'sub_feature = 0.2': 625967723.1986251,\n",
       " 'sub_feature = 0.3': 586777361.8041312}"
      ]
     },
     "execution_count": 278,
     "metadata": {},
     "output_type": "execute_result"
    }
   ],
   "source": [
    "MSEs = {}\n",
    "Mse_last = mse\n",
    "for sf in np.linspace(0.1,1,10):\n",
    "    params['learning_rate'] = 0.121\n",
    "    params['sub_feature'] = sf\n",
    "    clf = lgb.train(params, d_train, 100)\n",
    "    y_pred=clf.predict(x_test)\n",
    "    Mse = np.mean((y_pred-y_test)**2)\n",
    "    if Mse > Mse_last:\n",
    "        break\n",
    "    MSEs.update({\"sub_feature = \" + str(round(sf,3)) : Mse})\n",
    "    Mse_last = Mse\n",
    "\n",
    "MSEs"
   ]
  },
  {
   "cell_type": "markdown",
   "metadata": {},
   "source": [
    "#### Optimization for num_leaves  ( the input needs to be int),  ANS =8"
   ]
  },
  {
   "cell_type": "code",
   "execution_count": 279,
   "metadata": {},
   "outputs": [
    {
     "data": {
      "text/plain": [
       "{'num_leaves = 2': 737274437.5261226,\n",
       " 'num_leaves = 3': 656000322.8665174,\n",
       " 'num_leaves = 4': 644268383.3375119,\n",
       " 'num_leaves = 5': 637989431.0896362,\n",
       " 'num_leaves = 6': 628075859.9761411,\n",
       " 'num_leaves = 7': 597301051.6879051,\n",
       " 'num_leaves = 8': 591468770.1057334}"
      ]
     },
     "execution_count": 279,
     "metadata": {},
     "output_type": "execute_result"
    }
   ],
   "source": [
    "MSEs = {}\n",
    "Mse_last = mse\n",
    "for nl in range(2,10):\n",
    "    params['learning_rate'] = 0.121\n",
    "    params['sub_feature'] = 0.3\n",
    "    params['num_leaves'] = nl\n",
    "    clf = lgb.train(params, d_train, 100)\n",
    "    y_pred=clf.predict(x_test)\n",
    "    Mse = np.mean((y_pred-y_test)**2)\n",
    "    if Mse > Mse_last:\n",
    "        break\n",
    "    MSEs.update({\"num_leaves = \" + str(round(nl,3)) : Mse})\n",
    "    Mse_last = Mse\n",
    "\n",
    "MSEs"
   ]
  },
  {
   "cell_type": "markdown",
   "metadata": {},
   "source": [
    "#### Optimization for min_data,  ANS = 2"
   ]
  },
  {
   "cell_type": "code",
   "execution_count": 280,
   "metadata": {},
   "outputs": [
    {
     "data": {
      "text/plain": [
       "{'min_data = 1': 303918468.9420912, 'min_data = 2': 283786331.50798005}"
      ]
     },
     "execution_count": 280,
     "metadata": {},
     "output_type": "execute_result"
    }
   ],
   "source": [
    "MSEs = {}\n",
    "Mse_last = mse\n",
    "for md in range(1,50):\n",
    "    params['learning_rate'] = 0.121\n",
    "    params['sub_feature'] = 0.3\n",
    "    params['num_leaves'] = 8\n",
    "    params['min_data'] = md\n",
    "    clf = lgb.train(params, d_train, 100)\n",
    "    y_pred=clf.predict(x_test)\n",
    "    Mse = np.mean((y_pred-y_test)**2)\n",
    "    if Mse > Mse_last:\n",
    "        break\n",
    "    MSEs.update({\"min_data = \" + str(round(md,3)) : Mse})\n",
    "    Mse_last = Mse\n",
    "\n",
    "MSEs"
   ]
  },
  {
   "cell_type": "code",
   "execution_count": 281,
   "metadata": {},
   "outputs": [
    {
     "data": {
      "text/plain": [
       "{'min_data = 2': 283786331.50798005}"
      ]
     },
     "execution_count": 281,
     "metadata": {},
     "output_type": "execute_result"
    }
   ],
   "source": [
    "MSEs = {}\n",
    "Mse_last = mse\n",
    "for md in range(2,4):\n",
    "    params['learning_rate'] = 0.121\n",
    "    params['sub_feature'] = 0.3\n",
    "    params['num_leaves'] = 8\n",
    "    params['min_data'] = md\n",
    "    clf = lgb.train(params, d_train, 100)\n",
    "    y_pred=clf.predict(x_test)\n",
    "    Mse = np.mean((y_pred-y_test)**2)\n",
    "    if Mse > Mse_last:\n",
    "        break\n",
    "    MSEs.update({\"min_data = \" + str(round(md,3)) : Mse})\n",
    "    Mse_last = Mse\n",
    "\n",
    "MSEs"
   ]
  },
  {
   "cell_type": "markdown",
   "metadata": {},
   "source": [
    "## Optimization for min_data, ANS = 5"
   ]
  },
  {
   "cell_type": "code",
   "execution_count": 304,
   "metadata": {},
   "outputs": [
    {
     "data": {
      "text/plain": [
       "{'max_depth = 1': 367667599.93893003,\n",
       " 'max_depth = 10': 283786331.50798005,\n",
       " 'max_depth = 11': 283786331.50798005,\n",
       " 'max_depth = 12': 283786331.50798005,\n",
       " 'max_depth = 13': 283786331.50798005,\n",
       " 'max_depth = 14': 283786331.50798005,\n",
       " 'max_depth = 15': 283786331.50798005,\n",
       " 'max_depth = 16': 283786331.50798005,\n",
       " 'max_depth = 17': 283786331.50798005,\n",
       " 'max_depth = 18': 283786331.50798005,\n",
       " 'max_depth = 19': 283786331.50798005,\n",
       " 'max_depth = 2': 368766100.9287893,\n",
       " 'max_depth = 3': 323062879.4542025,\n",
       " 'max_depth = 4': 320081458.0189372,\n",
       " 'max_depth = 5': 270536487.00089747,\n",
       " 'max_depth = 6': 283326327.15449464,\n",
       " 'max_depth = 7': 283786331.50798005,\n",
       " 'max_depth = 8': 283786331.50798005,\n",
       " 'max_depth = 9': 283786331.50798005}"
      ]
     },
     "execution_count": 304,
     "metadata": {},
     "output_type": "execute_result"
    }
   ],
   "source": [
    "MSEs = {}\n",
    "Mse_last = mse\n",
    "for maxd in range(1,20):\n",
    "    params['learning_rate'] = 0.121\n",
    "    params['sub_feature'] = 0.3\n",
    "    params['num_leaves'] = 8\n",
    "    params['min_data'] = 2\n",
    "    params['max_depth'] = maxd\n",
    "    clf = lgb.train(params, d_train, 100)\n",
    "    y_pred=clf.predict(x_test)\n",
    "    Mse = np.mean((y_pred-y_test)**2)\n",
    "    #if Mse > Mse_last:\n",
    "    #    break\n",
    "    MSEs.update({\"max_depth = \" + str(round(maxd,3)) : Mse})\n",
    "    Mse_last = Mse\n",
    "\n",
    "MSEs"
   ]
  },
  {
   "cell_type": "markdown",
   "metadata": {},
   "source": [
    "## End of Julia's LightGBM\n",
    "the optimal parameters are:\n",
    "params['learning_rate'] = 0.121\n",
    "params['boosting_type'] = 'gbdt'\n",
    "params['objective'] = 'regression'\n",
    "params['metric'] = 'mse'\n",
    "params['sub_feature'] = 0.3\n",
    "params['num_leaves'] = 8\n",
    "params['min_data'] = 2\n",
    "params['max_depth'] = 5"
   ]
  },
  {
   "cell_type": "markdown",
   "metadata": {},
   "source": [
    "## Apply the models (parameters settings) to the true testing data set"
   ]
  },
  {
   "cell_type": "code",
   "execution_count": 311,
   "metadata": {},
   "outputs": [],
   "source": [
    "import lightgbm as lgb\n",
    "\n",
    "d_train = lgb.Dataset(true_x_test, label= true_y_test)\n",
    "params = {}\n",
    "params['learning_rate'] = 0.121\n",
    "params['boosting_type'] = 'gbdt'\n",
    "params['objective'] = 'regression'\n",
    "params['metric'] = 'mse'\n",
    "params['sub_feature'] = 0.3\n",
    "params['num_leaves'] = 8\n",
    "params['min_data'] = 2\n",
    "params['max_depth'] = 5\n",
    "clf = lgb.train(params, d_train, 100)"
   ]
  },
  {
   "cell_type": "code",
   "execution_count": 312,
   "metadata": {},
   "outputs": [
    {
     "data": {
      "text/plain": [
       "array([203368.09116674, 138403.55854972, 113916.06924881, 189016.47130245,\n",
       "        90932.84177646,  85472.44548304, 275196.11248442, 140873.73435174,\n",
       "       740897.25310065, 147984.66247707, 207366.61823162, 135698.39836394,\n",
       "       226008.39236848, 128010.33817053, 120268.74421368, 147744.91069351,\n",
       "       191940.99632179, 120770.36852641, 147972.1182222 , 154177.83960823,\n",
       "       162793.04529954, 149513.09023585, 108200.91915222, 174684.52975045,\n",
       "       188514.40235878, 170783.0826439 , 175338.05592752,  83861.09128822,\n",
       "       324201.51213857, 115802.09986657, 112990.33291089, 212412.28717711,\n",
       "       153602.39154301, 257337.81687748, 365850.21317989, 177902.53235473,\n",
       "       282727.5092516 , 117375.79285022, 259171.44553174, 328969.16217969,\n",
       "       240047.03395457, 130550.65509203, 173408.2592902 , 282796.11419851,\n",
       "       401507.30809222, 121064.70686422, 124289.12746054, 126963.1992897 ,\n",
       "       173048.35461928,  89286.88558937, 409434.43394756, 149717.32345208,\n",
       "       166382.15836619,  99625.07222776, 269687.49591846, 119580.26629999,\n",
       "       128882.36201766, 242131.82867305, 137577.59832433, 108887.41946587,\n",
       "       143713.60816151, 133945.87790971, 134412.76514975, 176235.03247918,\n",
       "       196359.61602963, 156283.72656501, 130044.39076212, 222529.95597058,\n",
       "       139066.20607295, 221808.0868826 , 188211.98032682, 117529.39287512,\n",
       "        83800.09829435, 382782.32022285, 108311.23630631, 251697.25497978,\n",
       "       132451.57203616,  83260.98223457, 315610.85634165, 158744.99915561,\n",
       "       138086.76038629, 134774.09695223, 111922.19266438, 142128.23346347,\n",
       "       199727.98079372, 184659.12637922, 103004.36911749, 195682.18493781,\n",
       "       182604.19564988, 136597.50900226, 194753.98793264, 188091.1377409 ,\n",
       "       183652.34006119, 201595.77486851, 176815.49154405, 154707.66862987,\n",
       "       210655.67370411, 185721.48698446, 122759.94366421, 156117.53787247,\n",
       "       252921.91733879, 199949.81246627, 124341.23736883, 157499.28111867,\n",
       "       105796.58446161, 262029.09143977, 143464.89620801, 102378.00321491,\n",
       "       181498.33308338, 127369.02447197,  92774.61890819, 116579.21237878,\n",
       "       186991.06896474, 122638.25967292, 181055.20791706, 154313.24559116,\n",
       "       387136.29329531, 133393.50771393, 194599.94014975, 265096.23227589,\n",
       "       145521.51641705, 150322.73874493, 130763.35883489, 180330.3418685 ,\n",
       "       215497.52377074, 221236.81970276, 414101.19872795, 189725.88262074,\n",
       "       199189.38856065, 177443.09621835, 205286.88165175, 199811.44090945,\n",
       "       142029.12326633, 181545.09502981, 114817.55557892, 214912.15877438,\n",
       "       143447.56462269, 178295.0780197 , 100117.31726283, 177672.27782167,\n",
       "       154643.14111868, 145394.5255095 , 216168.65411858, 151049.85437339,\n",
       "       111724.34689464, 168201.94530274, 208490.50407808, 147739.70649655,\n",
       "       316053.36657355, 216264.70899229, 177709.51679316, 368405.41845976,\n",
       "       241953.12232255, 144612.68286322, 160164.11869131, 252384.39307491,\n",
       "        89102.09538995, 223770.89159935, 147640.48484244, 164776.6915833 ,\n",
       "        99105.41499286, 141292.51830561, 191483.83463856, 125580.96750366,\n",
       "       236535.23224712, 118173.56953286, 175845.85664023, 267431.06217052,\n",
       "       208658.77455296, 182224.4378437 , 174872.0606317 , 169176.54115023,\n",
       "       192050.74700315, 175849.06144913, 118456.88151979, 135997.72855085,\n",
       "       135103.03292752, 238851.74493653, 115805.95305644, 135098.06228204,\n",
       "       319393.66127071, 171596.50440801, 115779.80192323, 302244.27520997,\n",
       "        85395.39519409, 176191.17159185, 105363.21919634, 191484.4430498 ,\n",
       "       191799.41280917, 153440.4697717 , 138714.88617954, 174343.83732397,\n",
       "       205365.96589355, 145687.24969962, 127143.68832494, 145209.17418206,\n",
       "        81782.8440692 , 142344.18922245, 171383.37325356, 120900.64470673,\n",
       "       139309.20384313, 191342.45046414, 118666.32701963, 127002.11538024,\n",
       "       154731.17241898, 198349.14648232, 160032.12338336, 317006.73365834,\n",
       "       274508.35920642,  69731.53385806, 156927.06981737, 255635.78089775,\n",
       "        92073.90736257, 107373.04091297, 385135.57812175, 132132.5549919 ,\n",
       "        93387.53867538, 296783.23171541, 250337.17279187,  81617.84414735,\n",
       "       185905.5413103 , 110617.79821286, 117994.86486532, 131159.91886927,\n",
       "       209685.59491475, 278503.32547171, 230737.18961868, 192937.51321476,\n",
       "       137088.78501823, 155878.05650111,  87617.03844609, 155329.7761928 ,\n",
       "       112706.81735331, 144720.79644839, 239685.26325271, 133902.72925679,\n",
       "       134347.26398706, 120175.23459691,  80262.83960674, 158909.78849623,\n",
       "       109915.45198627, 182841.37853416, 196377.67520229, 223043.75758111,\n",
       "       181027.55766137, 172543.74500968, 190756.3683549 , 184899.52485013,\n",
       "       153845.52977564, 197546.92870504, 181031.50783721, 264921.2742869 ,\n",
       "       100642.20625252, 439926.85882691, 228491.31271873, 216862.67181275,\n",
       "       109403.87945553, 180281.52306018, 538019.79484749, 163269.14379428,\n",
       "       176984.3213435 , 110723.44556963, 132224.33550994, 106081.25504189,\n",
       "       382567.37071643, 370394.80440256, 344906.01806599,  71520.47910169,\n",
       "       248833.81869006, 247793.27545154, 127758.68177254, 234360.70909975,\n",
       "       143045.4713715 , 179199.00008179, 106318.46471007, 235242.522041  ,\n",
       "       165140.88088291, 216016.63721511, 202655.69356612, 110289.08743693,\n",
       "       146856.92373784, 317221.25442393, 175640.41439229, 140230.09565115,\n",
       "       191791.49183626, 137260.69696432, 119890.34467377, 318780.84221083,\n",
       "       556157.83550023, 138651.66005475,  81402.02667579, 101238.51357619])"
      ]
     },
     "execution_count": 312,
     "metadata": {},
     "output_type": "execute_result"
    }
   ],
   "source": [
    "y_pred=clf.predict(true_x_test)\n",
    "y_pred"
   ]
  },
  {
   "cell_type": "code",
   "execution_count": 313,
   "metadata": {},
   "outputs": [
    {
     "data": {
      "text/plain": [
       "9819810.192821689"
      ]
     },
     "execution_count": 313,
     "metadata": {},
     "output_type": "execute_result"
    }
   ],
   "source": [
    "# final mse\n",
    "mse = np.mean((true_y_test-y_pred)**2)\n",
    "mse"
   ]
  },
  {
   "cell_type": "code",
   "execution_count": 314,
   "metadata": {
    "scrolled": true
   },
   "outputs": [
    {
     "data": {
      "image/png": "[encoded data removed]",
      "text/plain": [
       "<matplotlib.figure.Figure at 0x1dd67895a58>"
      ]
     },
     "metadata": {},
     "output_type": "display_data"
    }
   ],
   "source": [
    "plt.scatter(y_pred,true_y_test)\n",
    "plt.plot(y_pred,y_pred,\"m\")\n",
    "plt.show()"
   ]
  },
  {
   "cell_type": "code",
   "execution_count": 315,
   "metadata": {},
   "outputs": [
    {
     "data": {
      "image/png": "[encoded data removed]",
      "text/plain": [
       "<matplotlib.figure.Figure at 0x1dd6791f7f0>"
      ]
     },
     "metadata": {},
     "output_type": "display_data"
    }
   ],
   "source": [
    "plt.scatter(true_x_test[:,0],true_y_test-y_pred)\n",
    "plt.show()"
   ]
  },
  {
   "cell_type": "code",
   "execution_count": null,
   "metadata": {},
   "outputs": [],
   "source": []
  },
  {
   "cell_type": "code",
   "execution_count": null,
   "metadata": {},
   "outputs": [],
   "source": []
  }
 ],
 "metadata": {
  "kernelspec": {
   "display_name": "Python 3",
   "language": "python",
   "name": "python3"
  },
  "language_info": {
   "codemirror_mode": {
    "name": "ipython",
    "version": 3
   },
   "file_extension": ".py",
   "mimetype": "text/x-python",
   "name": "python",
   "nbconvert_exporter": "python",
   "pygments_lexer": "ipython3",
   "version": "3.6.3"
  }
 },
 "nbformat": 4,
 "nbformat_minor": 2
}
