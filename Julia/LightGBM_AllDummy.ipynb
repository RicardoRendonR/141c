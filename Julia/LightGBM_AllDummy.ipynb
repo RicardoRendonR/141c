{
 "cells": [
  {
   "cell_type": "markdown",
   "metadata": {},
   "source": [
    "Reference:\n",
    "https://medium.com/@pushkarmandot/https-medium-com-pushkarmandot-what-is-lightgbm-how-to-implement-it-how-to-fine-tune-the-parameters-60347819b7fc"
   ]
  },
  {
   "cell_type": "code",
   "execution_count": 4,
   "metadata": {
    "collapsed": true
   },
   "outputs": [],
   "source": [
    "import pandas as pd\n",
    "import numpy as np\n",
    "import matplotlib.pyplot as plt\n",
    "from matplotlib.patches import Polygon\n",
    "import seaborn as sns"
   ]
  },
  {
   "cell_type": "markdown",
   "metadata": {},
   "source": [
    "## Data loading"
   ]
  },
  {
   "cell_type": "code",
   "execution_count": 5,
   "metadata": {},
   "outputs": [
    {
     "name": "stdout",
     "output_type": "stream",
     "text": [
      "MSZoning object {'FV', 'RM', 'C (all)', 'RL', 'RH'}\n",
      "Street object {'Grvl', 'Pave'}\n",
      "Alley object {'NA', 'Grvl', 'Pave'}\n",
      "LotShape object {'Reg', 'IR1', 'IR2', 'IR3'}\n",
      "LandContour object {'Bnk', 'Lvl', 'HLS', 'Low'}\n",
      "Utilities object {'NoSeWa', 'AllPub'}\n",
      "LotConfig object {'Corner', 'CulDSac', 'Inside', 'FR3', 'FR2'}\n",
      "LandSlope object {'Gtl', 'Sev', 'Mod'}\n",
      "Neighborhood object {'Crawfor', 'SWISU', 'CollgCr', 'Blmngtn', 'MeadowV', 'NWAmes', 'Mitchel', 'NPkVill', 'BrkSide', 'NAmes', 'NridgHt', 'Veenker', 'Somerst', 'Edwards', 'Gilbert', 'Blueste', 'BrDale', 'IDOTRR', 'NoRidge', 'Timber', 'Sawyer', 'SawyerW', 'OldTown', 'ClearCr', 'StoneBr'}\n",
      "Condition1 object {'Artery', 'PosN', 'Norm', 'RRAn', 'PosA', 'Feedr', 'RRNn', 'RRNe', 'RRAe'}\n",
      "Condition2 object {'Artery', 'PosN', 'Norm', 'RRAn', 'PosA', 'Feedr', 'RRNn', 'RRAe'}\n",
      "BldgType object {'Duplex', '2fmCon', 'TwnhsE', '1Fam', 'Twnhs'}\n",
      "HouseStyle object {'1.5Unf', 'SLvl', '1Story', '2Story', '2.5Fin', 'SFoyer', '1.5Fin', '2.5Unf'}\n",
      "RoofStyle object {'Hip', 'Flat', 'Gambrel', 'Gable', 'Shed', 'Mansard'}\n",
      "RoofMatl object {'CompShg', 'Membran', 'Roll', 'ClyTile', 'WdShake', 'Metal', 'Tar&Grv', 'WdShngl'}\n",
      "Exterior1st object {'MetalSd', 'Plywood', 'VinylSd', 'BrkFace', 'WdShing', 'AsphShn', 'Wd Sdng', 'BrkComm', 'AsbShng', 'Stucco', 'Stone', 'CBlock', 'ImStucc', 'CemntBd', 'HdBoard'}\n",
      "Exterior2nd object {'MetalSd', 'Plywood', 'Wd Shng', 'Other', 'VinylSd', 'BrkFace', 'AsphShn', 'Wd Sdng', 'CmentBd', 'Stucco', 'AsbShng', 'Stone', 'CBlock', 'ImStucc', 'Brk Cmn', 'HdBoard'}\n",
      "MasVnrType object {'BrkFace', 'BrkCmn', 'None', 'Stone', 'NA'}\n",
      "ExterQual object {'TA', 'Gd', 'Ex', 'Fa'}\n",
      "ExterCond object {'TA', 'Gd', 'Po', 'Ex', 'Fa'}\n",
      "Foundation object {'PConc', 'Slab', 'Stone', 'CBlock', 'BrkTil', 'Wood'}\n",
      "BsmtQual object {'TA', 'Gd', 'NA', 'Ex', 'Fa'}\n",
      "BsmtCond object {'TA', 'Gd', 'NA', 'Po', 'Fa'}\n",
      "BsmtExposure object {'No', 'Gd', 'NA', 'Mn', 'Av'}\n",
      "BsmtFinType1 object {'GLQ', 'BLQ', 'Unf', 'LwQ', 'Rec', 'NA', 'ALQ'}\n",
      "BsmtFinType2 object {'GLQ', 'BLQ', 'Unf', 'LwQ', 'Rec', 'NA', 'ALQ'}\n",
      "Heating object {'OthW', 'GasA', 'Wall', 'Floor', 'Grav', 'GasW'}\n",
      "HeatingQC object {'TA', 'Gd', 'Po', 'Ex', 'Fa'}\n",
      "CentralAir object {'N', 'Y'}\n",
      "Electrical object {'SBrkr', 'FuseF', 'FuseA', 'FuseP', 'NA', 'Mix'}\n",
      "KitchenQual object {'TA', 'Gd', 'Ex', 'Fa'}\n",
      "Functional object {'Mod', 'Min1', 'Min2', 'Sev', 'Maj2', 'Maj1', 'Typ'}\n",
      "FireplaceQu object {'TA', 'Gd', 'NA', 'Po', 'Ex', 'Fa'}\n",
      "GarageType object {'Attchd', 'Detchd', 'BuiltIn', 'CarPort', '2Types', 'NA', 'Basment'}\n",
      "GarageFinish object {'Fin', 'NA', 'Unf', 'RFn'}\n",
      "GarageQual object {'TA', 'Gd', 'NA', 'Po', 'Ex', 'Fa'}\n",
      "GarageCond object {'TA', 'Gd', 'NA', 'Po', 'Ex', 'Fa'}\n",
      "PavedDrive object {'N', 'Y', 'P'}\n",
      "PoolQC object {'Ex', 'NA', 'Gd', 'Fa'}\n",
      "Fence object {'MnWw', 'MnPrv', 'NA', 'GdPrv', 'GdWo'}\n",
      "MiscFeature object {'TenC', 'NA', 'Othr', 'Shed', 'Gar2'}\n",
      "SaleType object {'Oth', 'ConLD', 'ConLI', 'New', 'Con', 'CWD', 'COD', 'WD', 'ConLw'}\n",
      "SaleCondition object {'Normal', 'Partial', 'Family', 'AdjLand', 'Alloca', 'Abnorml'}\n"
     ]
    }
   ],
   "source": [
    "DF= pd.read_csv(\"../train.csv\")\n",
    "DF.LotFrontage.fillna(round(np.mean(DF.LotFrontage)), inplace=True)\n",
    "DF.MasVnrArea.fillna(round(np.mean(DF.MasVnrArea)), inplace=True)\n",
    "DF.GarageYrBlt.fillna(round((np.mean(DF.GarageYrBlt))-3.5*(np.var(DF.GarageYrBlt))**0.5), inplace=True)\n",
    "DF_NAs = DF.fillna(\"NA\", inplace=False)\n",
    "kees = dict(DF_NAs).keys()\n",
    "categorical_vars = [k for k in kees if (DF_NAs[k]).dtype == object]\n",
    "len([print(k, (DF_NAs[k]).dtype, set(DF_NAs[k])) for k in categorical_vars])\n",
    "DF = pd.get_dummies(DF, columns=categorical_vars, drop_first=False)"
   ]
  },
  {
   "cell_type": "code",
   "execution_count": 6,
   "metadata": {},
   "outputs": [
    {
     "data": {
      "text/html": [
       "<div>\n",
       "<style>\n",
       "    .dataframe thead tr:only-child th {\n",
       "        text-align: right;\n",
       "    }\n",
       "\n",
       "    .dataframe thead th {\n",
       "        text-align: left;\n",
       "    }\n",
       "\n",
       "    .dataframe tbody tr th {\n",
       "        vertical-align: top;\n",
       "    }\n",
       "</style>\n",
       "<table border=\"1\" class=\"dataframe\">\n",
       "  <thead>\n",
       "    <tr style=\"text-align: right;\">\n",
       "      <th></th>\n",
       "      <th>Id</th>\n",
       "      <th>MSSubClass</th>\n",
       "      <th>LotFrontage</th>\n",
       "      <th>LotArea</th>\n",
       "      <th>OverallQual</th>\n",
       "      <th>OverallCond</th>\n",
       "      <th>YearBuilt</th>\n",
       "      <th>YearRemodAdd</th>\n",
       "      <th>MasVnrArea</th>\n",
       "      <th>BsmtFinSF1</th>\n",
       "      <th>...</th>\n",
       "      <th>SaleType_ConLw</th>\n",
       "      <th>SaleType_New</th>\n",
       "      <th>SaleType_Oth</th>\n",
       "      <th>SaleType_WD</th>\n",
       "      <th>SaleCondition_Abnorml</th>\n",
       "      <th>SaleCondition_AdjLand</th>\n",
       "      <th>SaleCondition_Alloca</th>\n",
       "      <th>SaleCondition_Family</th>\n",
       "      <th>SaleCondition_Normal</th>\n",
       "      <th>SaleCondition_Partial</th>\n",
       "    </tr>\n",
       "  </thead>\n",
       "  <tbody>\n",
       "    <tr>\n",
       "      <th>0</th>\n",
       "      <td>1</td>\n",
       "      <td>60</td>\n",
       "      <td>65.0</td>\n",
       "      <td>8450</td>\n",
       "      <td>7</td>\n",
       "      <td>5</td>\n",
       "      <td>2003</td>\n",
       "      <td>2003</td>\n",
       "      <td>196.0</td>\n",
       "      <td>706</td>\n",
       "      <td>...</td>\n",
       "      <td>0</td>\n",
       "      <td>0</td>\n",
       "      <td>0</td>\n",
       "      <td>1</td>\n",
       "      <td>0</td>\n",
       "      <td>0</td>\n",
       "      <td>0</td>\n",
       "      <td>0</td>\n",
       "      <td>1</td>\n",
       "      <td>0</td>\n",
       "    </tr>\n",
       "    <tr>\n",
       "      <th>1</th>\n",
       "      <td>2</td>\n",
       "      <td>20</td>\n",
       "      <td>80.0</td>\n",
       "      <td>9600</td>\n",
       "      <td>6</td>\n",
       "      <td>8</td>\n",
       "      <td>1976</td>\n",
       "      <td>1976</td>\n",
       "      <td>0.0</td>\n",
       "      <td>978</td>\n",
       "      <td>...</td>\n",
       "      <td>0</td>\n",
       "      <td>0</td>\n",
       "      <td>0</td>\n",
       "      <td>1</td>\n",
       "      <td>0</td>\n",
       "      <td>0</td>\n",
       "      <td>0</td>\n",
       "      <td>0</td>\n",
       "      <td>1</td>\n",
       "      <td>0</td>\n",
       "    </tr>\n",
       "    <tr>\n",
       "      <th>2</th>\n",
       "      <td>3</td>\n",
       "      <td>60</td>\n",
       "      <td>68.0</td>\n",
       "      <td>11250</td>\n",
       "      <td>7</td>\n",
       "      <td>5</td>\n",
       "      <td>2001</td>\n",
       "      <td>2002</td>\n",
       "      <td>162.0</td>\n",
       "      <td>486</td>\n",
       "      <td>...</td>\n",
       "      <td>0</td>\n",
       "      <td>0</td>\n",
       "      <td>0</td>\n",
       "      <td>1</td>\n",
       "      <td>0</td>\n",
       "      <td>0</td>\n",
       "      <td>0</td>\n",
       "      <td>0</td>\n",
       "      <td>1</td>\n",
       "      <td>0</td>\n",
       "    </tr>\n",
       "    <tr>\n",
       "      <th>3</th>\n",
       "      <td>4</td>\n",
       "      <td>70</td>\n",
       "      <td>60.0</td>\n",
       "      <td>9550</td>\n",
       "      <td>7</td>\n",
       "      <td>5</td>\n",
       "      <td>1915</td>\n",
       "      <td>1970</td>\n",
       "      <td>0.0</td>\n",
       "      <td>216</td>\n",
       "      <td>...</td>\n",
       "      <td>0</td>\n",
       "      <td>0</td>\n",
       "      <td>0</td>\n",
       "      <td>1</td>\n",
       "      <td>1</td>\n",
       "      <td>0</td>\n",
       "      <td>0</td>\n",
       "      <td>0</td>\n",
       "      <td>0</td>\n",
       "      <td>0</td>\n",
       "    </tr>\n",
       "    <tr>\n",
       "      <th>4</th>\n",
       "      <td>5</td>\n",
       "      <td>60</td>\n",
       "      <td>84.0</td>\n",
       "      <td>14260</td>\n",
       "      <td>8</td>\n",
       "      <td>5</td>\n",
       "      <td>2000</td>\n",
       "      <td>2000</td>\n",
       "      <td>350.0</td>\n",
       "      <td>655</td>\n",
       "      <td>...</td>\n",
       "      <td>0</td>\n",
       "      <td>0</td>\n",
       "      <td>0</td>\n",
       "      <td>1</td>\n",
       "      <td>0</td>\n",
       "      <td>0</td>\n",
       "      <td>0</td>\n",
       "      <td>0</td>\n",
       "      <td>1</td>\n",
       "      <td>0</td>\n",
       "    </tr>\n",
       "  </tbody>\n",
       "</table>\n",
       "<p>5 rows × 290 columns</p>\n",
       "</div>"
      ],
      "text/plain": [
       "   Id  MSSubClass  LotFrontage  LotArea  OverallQual  OverallCond  YearBuilt  \\\n",
       "0   1          60         65.0     8450            7            5       2003   \n",
       "1   2          20         80.0     9600            6            8       1976   \n",
       "2   3          60         68.0    11250            7            5       2001   \n",
       "3   4          70         60.0     9550            7            5       1915   \n",
       "4   5          60         84.0    14260            8            5       2000   \n",
       "\n",
       "   YearRemodAdd  MasVnrArea  BsmtFinSF1          ...            \\\n",
       "0          2003       196.0         706          ...             \n",
       "1          1976         0.0         978          ...             \n",
       "2          2002       162.0         486          ...             \n",
       "3          1970         0.0         216          ...             \n",
       "4          2000       350.0         655          ...             \n",
       "\n",
       "   SaleType_ConLw  SaleType_New  SaleType_Oth  SaleType_WD  \\\n",
       "0               0             0             0            1   \n",
       "1               0             0             0            1   \n",
       "2               0             0             0            1   \n",
       "3               0             0             0            1   \n",
       "4               0             0             0            1   \n",
       "\n",
       "   SaleCondition_Abnorml  SaleCondition_AdjLand  SaleCondition_Alloca  \\\n",
       "0                      0                      0                     0   \n",
       "1                      0                      0                     0   \n",
       "2                      0                      0                     0   \n",
       "3                      1                      0                     0   \n",
       "4                      0                      0                     0   \n",
       "\n",
       "   SaleCondition_Family  SaleCondition_Normal  SaleCondition_Partial  \n",
       "0                     0                     1                      0  \n",
       "1                     0                     1                      0  \n",
       "2                     0                     1                      0  \n",
       "3                     0                     0                      0  \n",
       "4                     0                     1                      0  \n",
       "\n",
       "[5 rows x 290 columns]"
      ]
     },
     "execution_count": 6,
     "metadata": {},
     "output_type": "execute_result"
    }
   ],
   "source": [
    "DF.head()"
   ]
  },
  {
   "cell_type": "code",
   "execution_count": 7,
   "metadata": {},
   "outputs": [
    {
     "data": {
      "text/plain": [
       "(1460, 290)"
      ]
     },
     "execution_count": 7,
     "metadata": {},
     "output_type": "execute_result"
    }
   ],
   "source": [
    "DF.shape"
   ]
  },
  {
   "cell_type": "markdown",
   "metadata": {},
   "source": [
    "## Data preprocessing"
   ]
  },
  {
   "cell_type": "code",
   "execution_count": 9,
   "metadata": {},
   "outputs": [
    {
     "name": "stderr",
     "output_type": "stream",
     "text": [
      "C:\\Users\\Julia\\Anaconda2\\envs\\py36\\lib\\site-packages\\sklearn\\cross_validation.py:41: DeprecationWarning: This module was deprecated in version 0.18 in favor of the model_selection module into which all the refactored classes and functions are moved. Also note that the interface of the new CV iterators are different from that of this module. This module will be removed in 0.20.\n",
      "  \"This module will be removed in 0.20.\", DeprecationWarning)\n"
     ]
    }
   ],
   "source": [
    "# Importing the dataset\n",
    "dataset = DF.copy()\n",
    "\n",
    "# X is the predictor variable\n",
    "X = DF.iloc[:, 0:80].values\n",
    "\n",
    "# y is the response variable\n",
    "y = DF.SalePrice.values\n",
    "\n",
    "# Splitting the dataset into the Training set and Test set\n",
    "from sklearn.cross_validation import train_test_split\n",
    "x_train, x_test, y_train, y_test = train_test_split(X, y, test_size = 0.25, random_state = 0)"
   ]
  },
  {
   "cell_type": "code",
   "execution_count": 10,
   "metadata": {
    "collapsed": true
   },
   "outputs": [],
   "source": [
    "import lightgbm as lgb\n",
    "\n",
    "d_train = lgb.Dataset(x_train, label=y_train)\n",
    "params = {}\n",
    "params['learning_rate'] = 0.003\n",
    "params['boosting_type'] = 'gbdt'\n",
    "params['objective'] = 'regression'\n",
    "params['metric'] = 'mse'\n",
    "params['sub_feature'] = 0.5\n",
    "params['num_leaves'] = 10\n",
    "params['min_data'] = 50\n",
    "params['max_depth'] = 10\n",
    "clf = lgb.train(params, d_train, 100)"
   ]
  },
  {
   "cell_type": "code",
   "execution_count": 11,
   "metadata": {},
   "outputs": [
    {
     "data": {
      "text/plain": [
       "array([ 187403.80371277,  170174.10875062,  163793.6467932 ,\n",
       "        186324.5360214 ,  160809.88814075,  158533.80764424,\n",
       "        208343.35102001,  168388.32936459,  236059.35458074,\n",
       "        175946.56004896,  184673.77060112,  171529.67154963,\n",
       "        193088.97545184,  165735.39122209,  165929.27818341,\n",
       "        170307.31162441,  186834.5646666 ,  165586.22461129,\n",
       "        172199.33061743,  178347.35792761,  172997.67464116,\n",
       "        171664.35749584,  164684.42743448,  177632.06214873,\n",
       "        181461.76144761,  183415.36557182,  180187.23196233,\n",
       "        156673.17726989,  214035.22441319,  164385.92334251,\n",
       "        172965.62333972,  184907.47716092,  173516.4714137 ,\n",
       "        205196.78585018,  233425.7625119 ,  179725.59088315,\n",
       "        204634.69124826,  165918.60133514,  198074.86092793,\n",
       "        209790.37128738,  192018.87157081,  168810.7834738 ,\n",
       "        178855.39663901,  214976.78733517,  230710.80791703,\n",
       "        168164.10868106,  166535.81565518,  166813.75127093,\n",
       "        177453.20436763,  156482.94953209,  230710.80791703,\n",
       "        173409.25915404,  176041.83239384,  159901.8341941 ,\n",
       "        202464.09750089,  170220.87332742,  168604.57815688,\n",
       "        198726.98541699,  169817.24526851,  164056.43178714,\n",
       "        169915.80134018,  168765.26717406,  169940.55870467,\n",
       "        176252.10308244,  184941.23285268,  176912.29016821,\n",
       "        167273.12290146,  190664.24891964,  169209.47292467,\n",
       "        190440.45964718,  182503.69844276,  164916.8139045 ,\n",
       "        158216.6446336 ,  220178.44057751,  163397.92714321,\n",
       "        201793.20902389,  168119.72641464,  157663.7651635 ,\n",
       "        205036.44709607,  173583.23719208,  168716.385883  ,\n",
       "        168119.72641464,  163596.00900801,  170728.5794621 ,\n",
       "        181757.94352085,  183300.59327641,  166943.23370414,\n",
       "        184673.77060112,  180246.2993786 ,  169081.29587333,\n",
       "        184714.25346223,  182171.49066108,  183057.89440884,\n",
       "        188526.35331244,  182629.3001482 ,  173686.64291369,\n",
       "        187079.41108436,  180469.1978058 ,  166612.65197151,\n",
       "        175207.63746641,  199987.98803498,  188596.97023017,\n",
       "        165337.766769  ,  175380.19552152,  163890.24594133,\n",
       "        202705.22207666,  170640.61627122,  161317.54075109,\n",
       "        179059.84389841,  165261.83525407,  160269.54472486,\n",
       "        165652.9435932 ,  182926.46725499,  165501.56376896,\n",
       "        181840.89574321,  176416.60530073,  235839.05624181,\n",
       "        168642.284282  ,  180480.73093927,  207240.91572962,\n",
       "        172764.7701182 ,  175373.66626533,  167661.17150353,\n",
       "        182010.93435022,  188593.53121288,  190511.65140964,\n",
       "        234958.86023774,  183375.00044682,  185047.1463177 ,\n",
       "        179548.18386806,  189283.21845955,  187200.76437212,\n",
       "        172093.55415248,  180388.00534042,  164778.03006344,\n",
       "        188404.70933143,  169622.65846775,  181343.38867579,\n",
       "        162863.60431687,  179611.94602248,  172955.01930054,\n",
       "        170849.98939279,  188066.56355868,  172747.56889983,\n",
       "        166471.58696093,  178974.06574657,  192515.49823994,\n",
       "        170477.04252035,  208731.11688006,  190991.7210644 ,\n",
       "        179186.39611425,  230538.79633894,  200817.33587605,\n",
       "        172564.39121032,  179756.99673253,  196070.77019973,\n",
       "        162136.61673824,  190818.32033023,  170813.31458975,\n",
       "        178037.6323583 ,  162150.56222543,  170933.53473884,\n",
       "        185448.1607715 ,  167514.1749099 ,  198653.89957529,\n",
       "        166700.16872908,  176870.84349431,  202944.65323545,\n",
       "        185295.68769278,  179635.7327256 ,  177494.85768527,\n",
       "        176652.5406975 ,  183080.61504733,  178046.26947497,\n",
       "        165547.0049294 ,  167183.08243432,  169239.54510011,\n",
       "        191800.27371756,  163525.19760173,  170670.4097538 ,\n",
       "        206292.7242772 ,  180329.79474958,  166137.23639309,\n",
       "        213109.09737705,  158285.74653843,  177259.33733474,\n",
       "        162128.60897224,  184476.76015178,  187204.31856467,\n",
       "        174714.96072265,  170062.24671707,  175036.96163945,\n",
       "        188016.39352711,  172362.3469397 ,  166626.8654185 ,\n",
       "        170429.26891156,  157020.37019069,  168426.57833618,\n",
       "        177286.1082367 ,  166258.76612348,  169282.98888627,\n",
       "        186583.10287401,  164858.77238278,  166563.10042948,\n",
       "        173587.85599816,  186919.6652588 ,  173851.40044366,\n",
       "        210404.93824424,  215007.1414392 ,  156819.27508013,\n",
       "        174738.14086841,  198176.97105383,  161689.75426053,\n",
       "        162742.11420774,  231718.52212454,  174469.82999043,\n",
       "        166196.16565919,  203370.11404425,  201182.15228823,\n",
       "        156673.17726989,  184912.62943345,  168725.79393453,\n",
       "        166631.0954784 ,  167083.47133512,  186452.53663871,\n",
       "        206424.77786584,  195117.11712819,  185110.46863548,\n",
       "        168724.41964543,  177065.07120339,  159750.00401763,\n",
       "        175289.91140917,  164593.06162967,  170417.76281268,\n",
       "        194307.82470224,  168183.60066042,  169370.49981575,\n",
       "        165002.52868217,  157519.54688437,  178598.68381726,\n",
       "        162995.26910107,  180689.60994558,  184499.80434193,\n",
       "        190745.55771731,  178751.95985674,  180743.09896283,\n",
       "        184856.338084  ,  183428.89959732,  171039.17363914,\n",
       "        184574.55198621,  179374.69185778,  205683.29203504,\n",
       "        160476.89712605,  229863.42308691,  192185.1522663 ,\n",
       "        193142.66269172,  163290.90899561,  186015.693379  ,\n",
       "        233701.32893847,  194042.32799136,  183731.58073279,\n",
       "        164613.86328324,  168531.56537084,  160793.12119268,\n",
       "        234958.86023774,  230844.07242998,  227474.38064553,\n",
       "        155882.63109981,  191545.0026665 ,  204410.33280363,\n",
       "        166238.60241372,  190113.81417062,  169768.60453731,\n",
       "        180158.31091512,  164408.86849663,  192540.16499379,\n",
       "        184351.07449058,  185944.98224042,  187687.93938911,\n",
       "        162293.3523283 ,  171292.48612296,  217074.2605814 ,\n",
       "        176081.77991675,  170197.34321167,  184709.6936888 ,\n",
       "        173646.81110752,  164944.56207811,  207873.48952355,\n",
       "        235114.85480615,  172486.25880369,  155882.63109981,\n",
       "        160100.62108031,  215158.76550613,  164209.34485398,\n",
       "        171666.86785583,  211412.21561425,  190378.51496505,\n",
       "        181835.80668226,  175272.23643577,  178057.74154811,\n",
       "        160115.12113332,  168557.37148141,  179647.91254019,\n",
       "        182488.85836159,  176692.83649256,  171829.94026044,\n",
       "        169833.04366034,  181440.78955518,  180004.77427564,\n",
       "        179416.99103234,  164095.06805405,  176170.3063903 ,\n",
       "        172558.81761151,  164546.04784479,  165531.54296285,\n",
       "        173697.0807103 ,  213179.16298539,  162366.68530703,\n",
       "        181495.66739205,  173245.62138784,  158169.55079284,\n",
       "        205051.61147706,  165358.62211806,  188615.71162372,\n",
       "        172441.1708216 ,  193868.93609009,  168185.20897952,\n",
       "        216825.29498321,  188849.93994106,  168983.10281884,\n",
       "        165340.90116673,  190943.34999468,  182275.46435761,\n",
       "        185047.48143517,  180821.01590426,  173336.25086353,\n",
       "        168780.990189  ,  184948.99756966,  170491.61537765,\n",
       "        167427.00587525,  231896.17682377,  176553.49803711,\n",
       "        176788.67210674,  188654.95214898,  175591.15289934,\n",
       "        170380.60824054,  164541.68147805,  161481.40011705,\n",
       "        160042.60420819,  169237.05788784,  190433.81145741,\n",
       "        221234.7066427 ,  165176.46951259,  160772.18996748,\n",
       "        178711.22071014,  234958.86023774,  213407.97120096,\n",
       "        175200.25363322,  196655.31945853,  198300.72006578,\n",
       "        208560.3389013 ,  179623.17487303,  193965.31821732,\n",
       "        199502.30010415,  157052.65462805])"
      ]
     },
     "execution_count": 11,
     "metadata": {},
     "output_type": "execute_result"
    }
   ],
   "source": [
    "#Prediction\n",
    "y_pred=clf.predict(x_test)\n",
    "y_pred"
   ]
  },
  {
   "cell_type": "code",
   "execution_count": 12,
   "metadata": {},
   "outputs": [
    {
     "data": {
      "text/plain": [
       "4163019616.8155346"
      ]
     },
     "execution_count": 12,
     "metadata": {},
     "output_type": "execute_result"
    }
   ],
   "source": [
    "mse = np.mean((y_pred-y_test)**2)\n",
    "mse"
   ]
  },
  {
   "cell_type": "code",
   "execution_count": 13,
   "metadata": {},
   "outputs": [
    {
     "data": {
      "text/plain": [
       "64521.466325677495"
      ]
     },
     "execution_count": 13,
     "metadata": {},
     "output_type": "execute_result"
    }
   ],
   "source": [
    "mse**0.5"
   ]
  },
  {
   "cell_type": "code",
   "execution_count": 14,
   "metadata": {},
   "outputs": [
    {
     "data": {
      "image/png": "[encoded data removed]",
      "text/plain": [
       "<matplotlib.figure.Figure at 0x2c06ae090b8>"
      ]
     },
     "metadata": {},
     "output_type": "display_data"
    }
   ],
   "source": [
    "plt.scatter(y_pred,y_test)\n",
    "plt.plot(y_pred,y_pred,\"m\")\n",
    "plt.show()"
   ]
  },
  {
   "cell_type": "code",
   "execution_count": 15,
   "metadata": {},
   "outputs": [
    {
     "data": {
      "image/png": "[encoded data removed]",
      "text/plain": [
       "<matplotlib.figure.Figure at 0x2c06b168a20>"
      ]
     },
     "metadata": {},
     "output_type": "display_data"
    }
   ],
   "source": [
    "plt.scatter(x_test[:,0],y_test-y_pred)\n",
    "plt.show()"
   ]
  }
 ],
 "metadata": {
  "kernelspec": {
   "display_name": "Python 3",
   "language": "python",
   "name": "python3"
  },
  "language_info": {
   "codemirror_mode": {
    "name": "ipython",
    "version": 3
   },
   "file_extension": ".py",
   "mimetype": "text/x-python",
   "name": "python",
   "nbconvert_exporter": "python",
   "pygments_lexer": "ipython3",
   "version": "3.6.3"
  }
 },
 "nbformat": 4,
 "nbformat_minor": 2
}
